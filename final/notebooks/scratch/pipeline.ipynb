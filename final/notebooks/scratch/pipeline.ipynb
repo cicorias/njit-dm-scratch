{
 "cells": [
  {
   "cell_type": "code",
   "execution_count": null,
   "metadata": {},
   "outputs": [],
   "source": [
    "#https://scikit-learn.org/stable/modules/compose.html\n",
    "\n",
    "#https://towardsdatascience.com/a-simple-example-of-pipeline-in-machine-learning-with-scikit-learn-e726ffbb6976\n",
    "\n",
    "\n",
    "\n",
    "from sklearn.linear_model\n",
    "import LinearRegression\n",
    "from sklearn.metrics\n",
    "import make_scorer, mean_squared_error\n",
    "from sklearn.model_selection import GridSearchCV\n",
    "from sklearn.pipeline import Pipeline\n",
    "from sklearn.preprocessing import StandardScaler\n",
    "\n",
    "\n",
    "model_pipeline = Pipeline([\n",
    "    ('scale', StandardScaler()), ('lr', LinearRegression())])\n",
    "\n",
    "search_space = {\n",
    "    'scale__with_mean' : [True, False],\n",
    "    'scale__with_std' : [True, False],\n",
    "    'lr__fit_intercept': [True, False],\n",
    "    'lr__normalize' : [True, False]\n",
    "}\n",
    "\n",
    "grid = GridSearchCV(\n",
    "    model_pipeline, search_space, cv=5,\n",
    "    scoring={\n",
    "        'r_squared': 'r2',\n",
    "        'mse' : 'neg_mean_squared_error',\n",
    "        'mae' : 'neg_mean_absolute_error',\n",
    "        'rmse' : make_scorer(\n",
    "            lambda x, y: np.sqrt(mean_squared_error(x, y))\n",
    "        )\n",
    "    }, refit='mae', iid=False\n",
    ").fit(pl_X_train, pl_y_train)"
   ]
  }
 ],
 "metadata": {
  "kernelspec": {
   "display_name": "Python 3",
   "language": "python",
   "name": "python3"
  },
  "language_info": {
   "codemirror_mode": {
    "name": "ipython",
    "version": 3
   },
   "file_extension": ".py",
   "mimetype": "text/x-python",
   "name": "python",
   "nbconvert_exporter": "python",
   "pygments_lexer": "ipython3",
   "version": "3.7.5"
  }
 },
 "nbformat": 4,
 "nbformat_minor": 4
}
