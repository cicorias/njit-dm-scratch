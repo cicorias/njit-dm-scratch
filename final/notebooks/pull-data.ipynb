{
  "nbformat": 4,
  "nbformat_minor": 0,
  "metadata": {
    "colab": {
      "name": "Untitled3.ipynb",
      "provenance": [],
      "collapsed_sections": []
    },
    "kernelspec": {
      "name": "python3",
      "display_name": "Python 3"
    }
  },
  "cells": [
    {
      "cell_type": "code",
      "metadata": {
        "id": "hA5yyLh7kgMs",
        "colab_type": "code",
        "colab": {}
      },
      "source": [
        "def download_wine_data(urls):\n",
        "  import os\n",
        "  from pathlib import Path\n",
        "  from urllib.parse import urlparse\n",
        "  import requests\n",
        "\n",
        "  Path('./data').mkdir(exist_ok=True)\n",
        "\n",
        "  for url in urls:\n",
        "    r = requests.get(url, stream = True)\n",
        "    p = urlparse(url)\n",
        "    filename = os.path.basename(p.path)\n",
        "    with open('./data/{}'.format(filename), 'wb') as file:  \n",
        "      for block in r.iter_content(chunk_size = 1024): \n",
        "        if block:  \n",
        "          file.write(block)\n",
        "\n",
        "def pull_data():\n",
        "  red_url = 'https://scicorianjit.blob.core.windows.net/njit/winequality-red.csv'\n",
        "  white_url = 'https://scicorianjit.blob.core.windows.net/njit/winequality-white.csv'\n",
        "  data_urls = [red_url, white_url]\n",
        "  download_wine_data(data_urls)\n"
      ],
      "execution_count": 0,
      "outputs": []
    },
    {
      "cell_type": "code",
      "metadata": {
        "id": "4aLJOklukmvF",
        "colab_type": "code",
        "colab": {}
      },
      "source": [
        "\n",
        "pull_data()\n"
      ],
      "execution_count": 0,
      "outputs": []
    },
    {
      "cell_type": "code",
      "metadata": {
        "id": "bn6o0zRjh5MW",
        "colab_type": "code",
        "colab": {}
      },
      "source": [
        "import csv"
      ],
      "execution_count": 0,
      "outputs": []
    },
    {
      "cell_type": "code",
      "metadata": {
        "id": "NXGxwCHnmrct",
        "colab_type": "code",
        "colab": {}
      },
      "source": [
        "r =  csv.reader(ff, deli)"
      ],
      "execution_count": 0,
      "outputs": []
    }
  ]
}