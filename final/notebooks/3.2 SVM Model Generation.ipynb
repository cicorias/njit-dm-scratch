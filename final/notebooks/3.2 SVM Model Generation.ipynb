{
 "cells": [
  {
   "cell_type": "markdown",
   "metadata": {},
   "source": [
    "## 3.2 - Model Generation\n",
    "\n",
    "This secton covers the model training, testing, and tuning of both the Support Vector Machine and a Decision Tree.\n",
    "\n",
    "### 3.3.1 - Support Vector Machine Training\n",
    "\n",
    "For SVM training experimentation covered the following:\n",
    "- a) use of multi-class for quality range of 0-1\n",
    "- b) use of binary class for quality range of 0,1\n",
    "- c) use of all features - standardized using StandardScaler\n",
    "- d) use of select features with high correlation to quality outcome using StandardScaler\n",
    "\n",
    "Experiments take advantage of the pipeline and grid search capabiliteis of SciKit that allows providing a range of parameters (hyperparameters) along with Preprocessing, the Model, and Cross Fold validation settings and SciKit learn will run through all the combinations and generate the \"best\" in terms of Accuracy.\n",
    "\n",
    "#### 3.3.1.1 Loading and setting up test and training datasets.\n",
    "\n"
   ]
  },
  {
   "cell_type": "code",
   "execution_count": 5,
   "metadata": {},
   "outputs": [
    {
     "name": "stdout",
     "output_type": "stream",
     "text": [
      "The autoreload extension is already loaded. To reload it, use:\n",
      "  %reload_ext autoreload\n",
      "path exist and not forced\n",
      "path exist and not forced\n"
     ]
    }
   ],
   "source": [
    "#this is for development only and not relevant\n",
    "%load_ext autoreload\n",
    "%autoreload\n",
    "\n",
    "from utils.helpers import *\n",
    "df_red, df_white, df_all = pull_and_load_data(force = False)\n",
    "\n",
    "# this is the full \n",
    "#X_train = get_df_no_color(df_all, binary = True)\n",
    "X_train, y_train = get_features_and_labels(df_all, binary = True)\n",
    "\n"
   ]
  },
  {
   "cell_type": "code",
   "execution_count": 15,
   "metadata": {},
   "outputs": [
    {
     "name": "stdout",
     "output_type": "stream",
     "text": [
      "Fitting 10 folds for each of 10 candidates, totalling 100 fits\n",
      "[CV] svm__C=0.001, svm__gamma=0.1, svm__max_iter=100000 ..............\n"
     ]
    },
    {
     "name": "stderr",
     "output_type": "stream",
     "text": [
      "[Parallel(n_jobs=1)]: Using backend SequentialBackend with 1 concurrent workers.\n"
     ]
    },
    {
     "name": "stdout",
     "output_type": "stream",
     "text": [
      "[CV]  svm__C=0.001, svm__gamma=0.1, svm__max_iter=100000, score=0.632, total=   0.8s\n",
      "[CV] svm__C=0.001, svm__gamma=0.1, svm__max_iter=100000 ..............\n"
     ]
    },
    {
     "name": "stderr",
     "output_type": "stream",
     "text": [
      "[Parallel(n_jobs=1)]: Done   1 out of   1 | elapsed:    0.8s remaining:    0.0s\n"
     ]
    },
    {
     "name": "stdout",
     "output_type": "stream",
     "text": [
      "[CV]  svm__C=0.001, svm__gamma=0.1, svm__max_iter=100000, score=0.632, total=   0.8s\n",
      "[CV] svm__C=0.001, svm__gamma=0.1, svm__max_iter=100000 ..............\n"
     ]
    },
    {
     "name": "stderr",
     "output_type": "stream",
     "text": [
      "[Parallel(n_jobs=1)]: Done   2 out of   2 | elapsed:    1.6s remaining:    0.0s\n"
     ]
    },
    {
     "name": "stdout",
     "output_type": "stream",
     "text": [
      "[CV]  svm__C=0.001, svm__gamma=0.1, svm__max_iter=100000, score=0.632, total=   0.8s\n",
      "[CV] svm__C=0.001, svm__gamma=0.1, svm__max_iter=100000 ..............\n"
     ]
    },
    {
     "name": "stderr",
     "output_type": "stream",
     "text": [
      "[Parallel(n_jobs=1)]: Done   3 out of   3 | elapsed:    2.4s remaining:    0.0s\n"
     ]
    },
    {
     "name": "stdout",
     "output_type": "stream",
     "text": [
      "[CV]  svm__C=0.001, svm__gamma=0.1, svm__max_iter=100000, score=0.632, total=   0.9s\n",
      "[CV] svm__C=0.001, svm__gamma=0.1, svm__max_iter=100000 ..............\n"
     ]
    },
    {
     "name": "stderr",
     "output_type": "stream",
     "text": [
      "[Parallel(n_jobs=1)]: Done   4 out of   4 | elapsed:    3.3s remaining:    0.0s\n"
     ]
    },
    {
     "name": "stdout",
     "output_type": "stream",
     "text": [
      "[CV]  svm__C=0.001, svm__gamma=0.1, svm__max_iter=100000, score=0.634, total=   0.8s\n",
      "[CV] svm__C=0.001, svm__gamma=0.1, svm__max_iter=100000 ..............\n"
     ]
    },
    {
     "name": "stderr",
     "output_type": "stream",
     "text": [
      "[Parallel(n_jobs=1)]: Done   5 out of   5 | elapsed:    4.0s remaining:    0.0s\n"
     ]
    },
    {
     "name": "stdout",
     "output_type": "stream",
     "text": [
      "[CV]  svm__C=0.001, svm__gamma=0.1, svm__max_iter=100000, score=0.634, total=   0.8s\n",
      "[CV] svm__C=0.001, svm__gamma=0.1, svm__max_iter=100000 ..............\n"
     ]
    },
    {
     "name": "stderr",
     "output_type": "stream",
     "text": [
      "[Parallel(n_jobs=1)]: Done   6 out of   6 | elapsed:    4.8s remaining:    0.0s\n"
     ]
    },
    {
     "name": "stdout",
     "output_type": "stream",
     "text": [
      "[CV]  svm__C=0.001, svm__gamma=0.1, svm__max_iter=100000, score=0.634, total=   0.8s\n",
      "[CV] svm__C=0.001, svm__gamma=0.1, svm__max_iter=100000 ..............\n"
     ]
    },
    {
     "name": "stderr",
     "output_type": "stream",
     "text": [
      "[Parallel(n_jobs=1)]: Done   7 out of   7 | elapsed:    5.6s remaining:    0.0s\n"
     ]
    },
    {
     "name": "stdout",
     "output_type": "stream",
     "text": [
      "[CV]  svm__C=0.001, svm__gamma=0.1, svm__max_iter=100000, score=0.633, total=   0.8s\n",
      "[CV] svm__C=0.001, svm__gamma=0.1, svm__max_iter=100000 ..............\n"
     ]
    },
    {
     "name": "stderr",
     "output_type": "stream",
     "text": [
      "[Parallel(n_jobs=1)]: Done   8 out of   8 | elapsed:    6.4s remaining:    0.0s\n"
     ]
    },
    {
     "name": "stdout",
     "output_type": "stream",
     "text": [
      "[CV]  svm__C=0.001, svm__gamma=0.1, svm__max_iter=100000, score=0.633, total=   0.8s\n",
      "[CV] svm__C=0.001, svm__gamma=0.1, svm__max_iter=100000 ..............\n"
     ]
    },
    {
     "name": "stderr",
     "output_type": "stream",
     "text": [
      "[Parallel(n_jobs=1)]: Done   9 out of   9 | elapsed:    7.2s remaining:    0.0s\n"
     ]
    },
    {
     "name": "stdout",
     "output_type": "stream",
     "text": [
      "[CV]  svm__C=0.001, svm__gamma=0.1, svm__max_iter=100000, score=0.633, total=   0.8s\n",
      "[CV] svm__C=0.001, svm__gamma=0.01, svm__max_iter=100000 .............\n",
      "[CV]  svm__C=0.001, svm__gamma=0.01, svm__max_iter=100000, score=0.632, total=   0.8s\n",
      "[CV] svm__C=0.001, svm__gamma=0.01, svm__max_iter=100000 .............\n",
      "[CV]  svm__C=0.001, svm__gamma=0.01, svm__max_iter=100000, score=0.632, total=   0.8s\n",
      "[CV] svm__C=0.001, svm__gamma=0.01, svm__max_iter=100000 .............\n",
      "[CV]  svm__C=0.001, svm__gamma=0.01, svm__max_iter=100000, score=0.632, total=   0.8s\n",
      "[CV] svm__C=0.001, svm__gamma=0.01, svm__max_iter=100000 .............\n",
      "[CV]  svm__C=0.001, svm__gamma=0.01, svm__max_iter=100000, score=0.632, total=   0.8s\n",
      "[CV] svm__C=0.001, svm__gamma=0.01, svm__max_iter=100000 .............\n",
      "[CV]  svm__C=0.001, svm__gamma=0.01, svm__max_iter=100000, score=0.634, total=   0.8s\n",
      "[CV] svm__C=0.001, svm__gamma=0.01, svm__max_iter=100000 .............\n",
      "[CV]  svm__C=0.001, svm__gamma=0.01, svm__max_iter=100000, score=0.634, total=   0.8s\n",
      "[CV] svm__C=0.001, svm__gamma=0.01, svm__max_iter=100000 .............\n",
      "[CV]  svm__C=0.001, svm__gamma=0.01, svm__max_iter=100000, score=0.634, total=   0.8s\n",
      "[CV] svm__C=0.001, svm__gamma=0.01, svm__max_iter=100000 .............\n",
      "[CV]  svm__C=0.001, svm__gamma=0.01, svm__max_iter=100000, score=0.633, total=   0.8s\n",
      "[CV] svm__C=0.001, svm__gamma=0.01, svm__max_iter=100000 .............\n",
      "[CV]  svm__C=0.001, svm__gamma=0.01, svm__max_iter=100000, score=0.633, total=   0.8s\n",
      "[CV] svm__C=0.001, svm__gamma=0.01, svm__max_iter=100000 .............\n",
      "[CV]  svm__C=0.001, svm__gamma=0.01, svm__max_iter=100000, score=0.633, total=   0.8s\n",
      "[CV] svm__C=0.1, svm__gamma=0.1, svm__max_iter=100000 ................\n",
      "[CV]  svm__C=0.1, svm__gamma=0.1, svm__max_iter=100000, score=0.582, total=   0.6s\n",
      "[CV] svm__C=0.1, svm__gamma=0.1, svm__max_iter=100000 ................\n",
      "[CV]  svm__C=0.1, svm__gamma=0.1, svm__max_iter=100000, score=0.652, total=   0.6s\n",
      "[CV] svm__C=0.1, svm__gamma=0.1, svm__max_iter=100000 ................\n",
      "[CV]  svm__C=0.1, svm__gamma=0.1, svm__max_iter=100000, score=0.672, total=   0.6s\n",
      "[CV] svm__C=0.1, svm__gamma=0.1, svm__max_iter=100000 ................\n",
      "[CV]  svm__C=0.1, svm__gamma=0.1, svm__max_iter=100000, score=0.718, total=   0.6s\n",
      "[CV] svm__C=0.1, svm__gamma=0.1, svm__max_iter=100000 ................\n",
      "[CV]  svm__C=0.1, svm__gamma=0.1, svm__max_iter=100000, score=0.740, total=   0.6s\n",
      "[CV] svm__C=0.1, svm__gamma=0.1, svm__max_iter=100000 ................\n",
      "[CV]  svm__C=0.1, svm__gamma=0.1, svm__max_iter=100000, score=0.722, total=   0.6s\n",
      "[CV] svm__C=0.1, svm__gamma=0.1, svm__max_iter=100000 ................\n",
      "[CV]  svm__C=0.1, svm__gamma=0.1, svm__max_iter=100000, score=0.757, total=   0.7s\n",
      "[CV] svm__C=0.1, svm__gamma=0.1, svm__max_iter=100000 ................\n",
      "[CV]  svm__C=0.1, svm__gamma=0.1, svm__max_iter=100000, score=0.738, total=   0.7s\n",
      "[CV] svm__C=0.1, svm__gamma=0.1, svm__max_iter=100000 ................\n",
      "[CV]  svm__C=0.1, svm__gamma=0.1, svm__max_iter=100000, score=0.749, total=   0.6s\n",
      "[CV] svm__C=0.1, svm__gamma=0.1, svm__max_iter=100000 ................\n",
      "[CV]  svm__C=0.1, svm__gamma=0.1, svm__max_iter=100000, score=0.726, total=   0.6s\n",
      "[CV] svm__C=0.1, svm__gamma=0.01, svm__max_iter=100000 ...............\n",
      "[CV]  svm__C=0.1, svm__gamma=0.01, svm__max_iter=100000, score=0.586, total=   0.7s\n",
      "[CV] svm__C=0.1, svm__gamma=0.01, svm__max_iter=100000 ...............\n",
      "[CV]  svm__C=0.1, svm__gamma=0.01, svm__max_iter=100000, score=0.705, total=   0.7s\n",
      "[CV] svm__C=0.1, svm__gamma=0.01, svm__max_iter=100000 ...............\n",
      "[CV]  svm__C=0.1, svm__gamma=0.01, svm__max_iter=100000, score=0.720, total=   0.8s\n",
      "[CV] svm__C=0.1, svm__gamma=0.01, svm__max_iter=100000 ...............\n",
      "[CV]  svm__C=0.1, svm__gamma=0.01, svm__max_iter=100000, score=0.720, total=   0.7s\n",
      "[CV] svm__C=0.1, svm__gamma=0.01, svm__max_iter=100000 ...............\n",
      "[CV]  svm__C=0.1, svm__gamma=0.01, svm__max_iter=100000, score=0.725, total=   0.8s\n",
      "[CV] svm__C=0.1, svm__gamma=0.01, svm__max_iter=100000 ...............\n",
      "[CV]  svm__C=0.1, svm__gamma=0.01, svm__max_iter=100000, score=0.705, total=   0.7s\n",
      "[CV] svm__C=0.1, svm__gamma=0.01, svm__max_iter=100000 ...............\n",
      "[CV]  svm__C=0.1, svm__gamma=0.01, svm__max_iter=100000, score=0.695, total=   0.8s\n",
      "[CV] svm__C=0.1, svm__gamma=0.01, svm__max_iter=100000 ...............\n",
      "[CV]  svm__C=0.1, svm__gamma=0.01, svm__max_iter=100000, score=0.698, total=   0.7s\n",
      "[CV] svm__C=0.1, svm__gamma=0.01, svm__max_iter=100000 ...............\n",
      "[CV]  svm__C=0.1, svm__gamma=0.01, svm__max_iter=100000, score=0.690, total=   0.7s\n",
      "[CV] svm__C=0.1, svm__gamma=0.01, svm__max_iter=100000 ...............\n",
      "[CV]  svm__C=0.1, svm__gamma=0.01, svm__max_iter=100000, score=0.706, total=   0.7s\n",
      "[CV] svm__C=10, svm__gamma=0.1, svm__max_iter=100000 .................\n",
      "[CV]  svm__C=10, svm__gamma=0.1, svm__max_iter=100000, score=0.614, total=   1.0s\n",
      "[CV] svm__C=10, svm__gamma=0.1, svm__max_iter=100000 .................\n",
      "[CV]  svm__C=10, svm__gamma=0.1, svm__max_iter=100000, score=0.606, total=   1.0s\n",
      "[CV] svm__C=10, svm__gamma=0.1, svm__max_iter=100000 .................\n",
      "[CV]  svm__C=10, svm__gamma=0.1, svm__max_iter=100000, score=0.635, total=   0.9s\n",
      "[CV] svm__C=10, svm__gamma=0.1, svm__max_iter=100000 .................\n",
      "[CV]  svm__C=10, svm__gamma=0.1, svm__max_iter=100000, score=0.700, total=   0.9s\n",
      "[CV] svm__C=10, svm__gamma=0.1, svm__max_iter=100000 .................\n",
      "[CV]  svm__C=10, svm__gamma=0.1, svm__max_iter=100000, score=0.717, total=   0.9s\n",
      "[CV] svm__C=10, svm__gamma=0.1, svm__max_iter=100000 .................\n",
      "[CV]  svm__C=10, svm__gamma=0.1, svm__max_iter=100000, score=0.717, total=   0.9s\n",
      "[CV] svm__C=10, svm__gamma=0.1, svm__max_iter=100000 .................\n",
      "[CV]  svm__C=10, svm__gamma=0.1, svm__max_iter=100000, score=0.775, total=   1.0s\n",
      "[CV] svm__C=10, svm__gamma=0.1, svm__max_iter=100000 .................\n",
      "[CV]  svm__C=10, svm__gamma=0.1, svm__max_iter=100000, score=0.749, total=   1.0s\n",
      "[CV] svm__C=10, svm__gamma=0.1, svm__max_iter=100000 .................\n",
      "[CV]  svm__C=10, svm__gamma=0.1, svm__max_iter=100000, score=0.772, total=   0.9s\n",
      "[CV] svm__C=10, svm__gamma=0.1, svm__max_iter=100000 .................\n",
      "[CV]  svm__C=10, svm__gamma=0.1, svm__max_iter=100000, score=0.770, total=   1.0s\n",
      "[CV] svm__C=10, svm__gamma=0.01, svm__max_iter=100000 ................\n",
      "[CV]  svm__C=10, svm__gamma=0.01, svm__max_iter=100000, score=0.589, total=   0.7s\n",
      "[CV] svm__C=10, svm__gamma=0.01, svm__max_iter=100000 ................\n",
      "[CV]  svm__C=10, svm__gamma=0.01, svm__max_iter=100000, score=0.691, total=   0.7s\n",
      "[CV] svm__C=10, svm__gamma=0.01, svm__max_iter=100000 ................\n",
      "[CV]  svm__C=10, svm__gamma=0.01, svm__max_iter=100000, score=0.657, total=   0.7s\n",
      "[CV] svm__C=10, svm__gamma=0.01, svm__max_iter=100000 ................\n",
      "[CV]  svm__C=10, svm__gamma=0.01, svm__max_iter=100000, score=0.706, total=   0.7s\n",
      "[CV] svm__C=10, svm__gamma=0.01, svm__max_iter=100000 ................\n",
      "[CV]  svm__C=10, svm__gamma=0.01, svm__max_iter=100000, score=0.729, total=   0.7s\n",
      "[CV] svm__C=10, svm__gamma=0.01, svm__max_iter=100000 ................\n",
      "[CV]  svm__C=10, svm__gamma=0.01, svm__max_iter=100000, score=0.745, total=   0.7s\n",
      "[CV] svm__C=10, svm__gamma=0.01, svm__max_iter=100000 ................\n",
      "[CV]  svm__C=10, svm__gamma=0.01, svm__max_iter=100000, score=0.746, total=   0.7s\n",
      "[CV] svm__C=10, svm__gamma=0.01, svm__max_iter=100000 ................\n",
      "[CV]  svm__C=10, svm__gamma=0.01, svm__max_iter=100000, score=0.737, total=   0.7s\n",
      "[CV] svm__C=10, svm__gamma=0.01, svm__max_iter=100000 ................\n",
      "[CV]  svm__C=10, svm__gamma=0.01, svm__max_iter=100000, score=0.752, total=   0.7s\n",
      "[CV] svm__C=10, svm__gamma=0.01, svm__max_iter=100000 ................\n",
      "[CV]  svm__C=10, svm__gamma=0.01, svm__max_iter=100000, score=0.724, total=   0.7s\n",
      "[CV] svm__C=100, svm__gamma=0.1, svm__max_iter=100000 ................\n"
     ]
    },
    {
     "name": "stderr",
     "output_type": "stream",
     "text": [
      "/c/g/njit/njit-dm-scratch/final/.venv/lib/python3.7/site-packages/sklearn/svm/_base.py:231: ConvergenceWarning: Solver terminated early (max_iter=100000).  Consider pre-processing your data with StandardScaler or MinMaxScaler.\n",
      "  % self.max_iter, ConvergenceWarning)\n"
     ]
    },
    {
     "name": "stdout",
     "output_type": "stream",
     "text": [
      "[CV]  svm__C=100, svm__gamma=0.1, svm__max_iter=100000, score=0.597, total=   2.2s\n",
      "[CV] svm__C=100, svm__gamma=0.1, svm__max_iter=100000 ................\n"
     ]
    },
    {
     "name": "stderr",
     "output_type": "stream",
     "text": [
      "/c/g/njit/njit-dm-scratch/final/.venv/lib/python3.7/site-packages/sklearn/svm/_base.py:231: ConvergenceWarning: Solver terminated early (max_iter=100000).  Consider pre-processing your data with StandardScaler or MinMaxScaler.\n",
      "  % self.max_iter, ConvergenceWarning)\n"
     ]
    },
    {
     "name": "stdout",
     "output_type": "stream",
     "text": [
      "[CV]  svm__C=100, svm__gamma=0.1, svm__max_iter=100000, score=0.566, total=   2.3s\n",
      "[CV] svm__C=100, svm__gamma=0.1, svm__max_iter=100000 ................\n"
     ]
    },
    {
     "name": "stderr",
     "output_type": "stream",
     "text": [
      "/c/g/njit/njit-dm-scratch/final/.venv/lib/python3.7/site-packages/sklearn/svm/_base.py:231: ConvergenceWarning: Solver terminated early (max_iter=100000).  Consider pre-processing your data with StandardScaler or MinMaxScaler.\n",
      "  % self.max_iter, ConvergenceWarning)\n"
     ]
    },
    {
     "name": "stdout",
     "output_type": "stream",
     "text": [
      "[CV]  svm__C=100, svm__gamma=0.1, svm__max_iter=100000, score=0.574, total=   2.2s\n",
      "[CV] svm__C=100, svm__gamma=0.1, svm__max_iter=100000 ................\n"
     ]
    },
    {
     "name": "stderr",
     "output_type": "stream",
     "text": [
      "/c/g/njit/njit-dm-scratch/final/.venv/lib/python3.7/site-packages/sklearn/svm/_base.py:231: ConvergenceWarning: Solver terminated early (max_iter=100000).  Consider pre-processing your data with StandardScaler or MinMaxScaler.\n",
      "  % self.max_iter, ConvergenceWarning)\n"
     ]
    },
    {
     "name": "stdout",
     "output_type": "stream",
     "text": [
      "[CV]  svm__C=100, svm__gamma=0.1, svm__max_iter=100000, score=0.655, total=   2.2s\n",
      "[CV] svm__C=100, svm__gamma=0.1, svm__max_iter=100000 ................\n"
     ]
    },
    {
     "name": "stderr",
     "output_type": "stream",
     "text": [
      "/c/g/njit/njit-dm-scratch/final/.venv/lib/python3.7/site-packages/sklearn/svm/_base.py:231: ConvergenceWarning: Solver terminated early (max_iter=100000).  Consider pre-processing your data with StandardScaler or MinMaxScaler.\n",
      "  % self.max_iter, ConvergenceWarning)\n"
     ]
    },
    {
     "name": "stdout",
     "output_type": "stream",
     "text": [
      "[CV]  svm__C=100, svm__gamma=0.1, svm__max_iter=100000, score=0.665, total=   2.3s\n",
      "[CV] svm__C=100, svm__gamma=0.1, svm__max_iter=100000 ................\n"
     ]
    },
    {
     "name": "stderr",
     "output_type": "stream",
     "text": [
      "/c/g/njit/njit-dm-scratch/final/.venv/lib/python3.7/site-packages/sklearn/svm/_base.py:231: ConvergenceWarning: Solver terminated early (max_iter=100000).  Consider pre-processing your data with StandardScaler or MinMaxScaler.\n",
      "  % self.max_iter, ConvergenceWarning)\n"
     ]
    },
    {
     "name": "stdout",
     "output_type": "stream",
     "text": [
      "[CV]  svm__C=100, svm__gamma=0.1, svm__max_iter=100000, score=0.685, total=   2.2s\n",
      "[CV] svm__C=100, svm__gamma=0.1, svm__max_iter=100000 ................\n"
     ]
    },
    {
     "name": "stderr",
     "output_type": "stream",
     "text": [
      "/c/g/njit/njit-dm-scratch/final/.venv/lib/python3.7/site-packages/sklearn/svm/_base.py:231: ConvergenceWarning: Solver terminated early (max_iter=100000).  Consider pre-processing your data with StandardScaler or MinMaxScaler.\n",
      "  % self.max_iter, ConvergenceWarning)\n"
     ]
    },
    {
     "name": "stdout",
     "output_type": "stream",
     "text": [
      "[CV]  svm__C=100, svm__gamma=0.1, svm__max_iter=100000, score=0.769, total=   2.3s\n",
      "[CV] svm__C=100, svm__gamma=0.1, svm__max_iter=100000 ................\n"
     ]
    },
    {
     "name": "stderr",
     "output_type": "stream",
     "text": [
      "/c/g/njit/njit-dm-scratch/final/.venv/lib/python3.7/site-packages/sklearn/svm/_base.py:231: ConvergenceWarning: Solver terminated early (max_iter=100000).  Consider pre-processing your data with StandardScaler or MinMaxScaler.\n",
      "  % self.max_iter, ConvergenceWarning)\n"
     ]
    },
    {
     "name": "stdout",
     "output_type": "stream",
     "text": [
      "[CV]  svm__C=100, svm__gamma=0.1, svm__max_iter=100000, score=0.746, total=   2.3s\n",
      "[CV] svm__C=100, svm__gamma=0.1, svm__max_iter=100000 ................\n"
     ]
    },
    {
     "name": "stderr",
     "output_type": "stream",
     "text": [
      "/c/g/njit/njit-dm-scratch/final/.venv/lib/python3.7/site-packages/sklearn/svm/_base.py:231: ConvergenceWarning: Solver terminated early (max_iter=100000).  Consider pre-processing your data with StandardScaler or MinMaxScaler.\n",
      "  % self.max_iter, ConvergenceWarning)\n"
     ]
    },
    {
     "name": "stdout",
     "output_type": "stream",
     "text": [
      "[CV]  svm__C=100, svm__gamma=0.1, svm__max_iter=100000, score=0.740, total=   2.4s\n",
      "[CV] svm__C=100, svm__gamma=0.1, svm__max_iter=100000 ................\n"
     ]
    },
    {
     "name": "stderr",
     "output_type": "stream",
     "text": [
      "/c/g/njit/njit-dm-scratch/final/.venv/lib/python3.7/site-packages/sklearn/svm/_base.py:231: ConvergenceWarning: Solver terminated early (max_iter=100000).  Consider pre-processing your data with StandardScaler or MinMaxScaler.\n",
      "  % self.max_iter, ConvergenceWarning)\n"
     ]
    },
    {
     "name": "stdout",
     "output_type": "stream",
     "text": [
      "[CV]  svm__C=100, svm__gamma=0.1, svm__max_iter=100000, score=0.716, total=   2.3s\n",
      "[CV] svm__C=100, svm__gamma=0.01, svm__max_iter=100000 ...............\n",
      "[CV]  svm__C=100, svm__gamma=0.01, svm__max_iter=100000, score=0.580, total=   1.2s\n",
      "[CV] svm__C=100, svm__gamma=0.01, svm__max_iter=100000 ...............\n",
      "[CV]  svm__C=100, svm__gamma=0.01, svm__max_iter=100000, score=0.682, total=   1.2s\n",
      "[CV] svm__C=100, svm__gamma=0.01, svm__max_iter=100000 ...............\n",
      "[CV]  svm__C=100, svm__gamma=0.01, svm__max_iter=100000, score=0.635, total=   1.1s\n",
      "[CV] svm__C=100, svm__gamma=0.01, svm__max_iter=100000 ...............\n",
      "[CV]  svm__C=100, svm__gamma=0.01, svm__max_iter=100000, score=0.702, total=   1.2s\n",
      "[CV] svm__C=100, svm__gamma=0.01, svm__max_iter=100000 ...............\n",
      "[CV]  svm__C=100, svm__gamma=0.01, svm__max_iter=100000, score=0.717, total=   1.2s\n",
      "[CV] svm__C=100, svm__gamma=0.01, svm__max_iter=100000 ...............\n",
      "[CV]  svm__C=100, svm__gamma=0.01, svm__max_iter=100000, score=0.734, total=   1.2s\n",
      "[CV] svm__C=100, svm__gamma=0.01, svm__max_iter=100000 ...............\n",
      "[CV]  svm__C=100, svm__gamma=0.01, svm__max_iter=100000, score=0.746, total=   1.2s\n",
      "[CV] svm__C=100, svm__gamma=0.01, svm__max_iter=100000 ...............\n",
      "[CV]  svm__C=100, svm__gamma=0.01, svm__max_iter=100000, score=0.743, total=   1.2s\n",
      "[CV] svm__C=100, svm__gamma=0.01, svm__max_iter=100000 ...............\n",
      "[CV]  svm__C=100, svm__gamma=0.01, svm__max_iter=100000, score=0.750, total=   1.2s\n",
      "[CV] svm__C=100, svm__gamma=0.01, svm__max_iter=100000 ...............\n",
      "[CV]  svm__C=100, svm__gamma=0.01, svm__max_iter=100000, score=0.743, total=   1.2s\n",
      "[CV] svm__C=1000000.0, svm__gamma=0.1, svm__max_iter=100000 ..........\n"
     ]
    },
    {
     "name": "stderr",
     "output_type": "stream",
     "text": [
      "/c/g/njit/njit-dm-scratch/final/.venv/lib/python3.7/site-packages/sklearn/svm/_base.py:231: ConvergenceWarning: Solver terminated early (max_iter=100000).  Consider pre-processing your data with StandardScaler or MinMaxScaler.\n",
      "  % self.max_iter, ConvergenceWarning)\n"
     ]
    },
    {
     "name": "stdout",
     "output_type": "stream",
     "text": [
      "[CV]  svm__C=1000000.0, svm__gamma=0.1, svm__max_iter=100000, score=0.522, total=   3.6s\n",
      "[CV] svm__C=1000000.0, svm__gamma=0.1, svm__max_iter=100000 ..........\n"
     ]
    },
    {
     "name": "stderr",
     "output_type": "stream",
     "text": [
      "/c/g/njit/njit-dm-scratch/final/.venv/lib/python3.7/site-packages/sklearn/svm/_base.py:231: ConvergenceWarning: Solver terminated early (max_iter=100000).  Consider pre-processing your data with StandardScaler or MinMaxScaler.\n",
      "  % self.max_iter, ConvergenceWarning)\n"
     ]
    },
    {
     "name": "stdout",
     "output_type": "stream",
     "text": [
      "[CV]  svm__C=1000000.0, svm__gamma=0.1, svm__max_iter=100000, score=0.572, total=   3.7s\n",
      "[CV] svm__C=1000000.0, svm__gamma=0.1, svm__max_iter=100000 ..........\n"
     ]
    },
    {
     "name": "stderr",
     "output_type": "stream",
     "text": [
      "/c/g/njit/njit-dm-scratch/final/.venv/lib/python3.7/site-packages/sklearn/svm/_base.py:231: ConvergenceWarning: Solver terminated early (max_iter=100000).  Consider pre-processing your data with StandardScaler or MinMaxScaler.\n",
      "  % self.max_iter, ConvergenceWarning)\n"
     ]
    },
    {
     "name": "stdout",
     "output_type": "stream",
     "text": [
      "[CV]  svm__C=1000000.0, svm__gamma=0.1, svm__max_iter=100000, score=0.474, total=   3.8s\n",
      "[CV] svm__C=1000000.0, svm__gamma=0.1, svm__max_iter=100000 ..........\n"
     ]
    },
    {
     "name": "stderr",
     "output_type": "stream",
     "text": [
      "/c/g/njit/njit-dm-scratch/final/.venv/lib/python3.7/site-packages/sklearn/svm/_base.py:231: ConvergenceWarning: Solver terminated early (max_iter=100000).  Consider pre-processing your data with StandardScaler or MinMaxScaler.\n",
      "  % self.max_iter, ConvergenceWarning)\n"
     ]
    },
    {
     "name": "stdout",
     "output_type": "stream",
     "text": [
      "[CV]  svm__C=1000000.0, svm__gamma=0.1, svm__max_iter=100000, score=0.585, total=   3.8s\n",
      "[CV] svm__C=1000000.0, svm__gamma=0.1, svm__max_iter=100000 ..........\n"
     ]
    },
    {
     "name": "stderr",
     "output_type": "stream",
     "text": [
      "/c/g/njit/njit-dm-scratch/final/.venv/lib/python3.7/site-packages/sklearn/svm/_base.py:231: ConvergenceWarning: Solver terminated early (max_iter=100000).  Consider pre-processing your data with StandardScaler or MinMaxScaler.\n",
      "  % self.max_iter, ConvergenceWarning)\n"
     ]
    },
    {
     "name": "stdout",
     "output_type": "stream",
     "text": [
      "[CV]  svm__C=1000000.0, svm__gamma=0.1, svm__max_iter=100000, score=0.560, total=   3.7s\n",
      "[CV] svm__C=1000000.0, svm__gamma=0.1, svm__max_iter=100000 ..........\n"
     ]
    },
    {
     "name": "stderr",
     "output_type": "stream",
     "text": [
      "/c/g/njit/njit-dm-scratch/final/.venv/lib/python3.7/site-packages/sklearn/svm/_base.py:231: ConvergenceWarning: Solver terminated early (max_iter=100000).  Consider pre-processing your data with StandardScaler or MinMaxScaler.\n",
      "  % self.max_iter, ConvergenceWarning)\n"
     ]
    },
    {
     "name": "stdout",
     "output_type": "stream",
     "text": [
      "[CV]  svm__C=1000000.0, svm__gamma=0.1, svm__max_iter=100000, score=0.625, total=   3.7s\n",
      "[CV] svm__C=1000000.0, svm__gamma=0.1, svm__max_iter=100000 ..........\n"
     ]
    },
    {
     "name": "stderr",
     "output_type": "stream",
     "text": [
      "/c/g/njit/njit-dm-scratch/final/.venv/lib/python3.7/site-packages/sklearn/svm/_base.py:231: ConvergenceWarning: Solver terminated early (max_iter=100000).  Consider pre-processing your data with StandardScaler or MinMaxScaler.\n",
      "  % self.max_iter, ConvergenceWarning)\n"
     ]
    },
    {
     "name": "stdout",
     "output_type": "stream",
     "text": [
      "[CV]  svm__C=1000000.0, svm__gamma=0.1, svm__max_iter=100000, score=0.682, total=   3.8s\n",
      "[CV] svm__C=1000000.0, svm__gamma=0.1, svm__max_iter=100000 ..........\n"
     ]
    },
    {
     "name": "stderr",
     "output_type": "stream",
     "text": [
      "/c/g/njit/njit-dm-scratch/final/.venv/lib/python3.7/site-packages/sklearn/svm/_base.py:231: ConvergenceWarning: Solver terminated early (max_iter=100000).  Consider pre-processing your data with StandardScaler or MinMaxScaler.\n",
      "  % self.max_iter, ConvergenceWarning)\n"
     ]
    },
    {
     "name": "stdout",
     "output_type": "stream",
     "text": [
      "[CV]  svm__C=1000000.0, svm__gamma=0.1, svm__max_iter=100000, score=0.663, total=   3.7s\n",
      "[CV] svm__C=1000000.0, svm__gamma=0.1, svm__max_iter=100000 ..........\n"
     ]
    },
    {
     "name": "stderr",
     "output_type": "stream",
     "text": [
      "/c/g/njit/njit-dm-scratch/final/.venv/lib/python3.7/site-packages/sklearn/svm/_base.py:231: ConvergenceWarning: Solver terminated early (max_iter=100000).  Consider pre-processing your data with StandardScaler or MinMaxScaler.\n",
      "  % self.max_iter, ConvergenceWarning)\n"
     ]
    },
    {
     "name": "stdout",
     "output_type": "stream",
     "text": [
      "[CV]  svm__C=1000000.0, svm__gamma=0.1, svm__max_iter=100000, score=0.700, total=   3.7s\n",
      "[CV] svm__C=1000000.0, svm__gamma=0.1, svm__max_iter=100000 ..........\n"
     ]
    },
    {
     "name": "stderr",
     "output_type": "stream",
     "text": [
      "/c/g/njit/njit-dm-scratch/final/.venv/lib/python3.7/site-packages/sklearn/svm/_base.py:231: ConvergenceWarning: Solver terminated early (max_iter=100000).  Consider pre-processing your data with StandardScaler or MinMaxScaler.\n",
      "  % self.max_iter, ConvergenceWarning)\n"
     ]
    },
    {
     "name": "stdout",
     "output_type": "stream",
     "text": [
      "[CV]  svm__C=1000000.0, svm__gamma=0.1, svm__max_iter=100000, score=0.638, total=   3.8s\n",
      "[CV] svm__C=1000000.0, svm__gamma=0.01, svm__max_iter=100000 .........\n"
     ]
    },
    {
     "name": "stderr",
     "output_type": "stream",
     "text": [
      "/c/g/njit/njit-dm-scratch/final/.venv/lib/python3.7/site-packages/sklearn/svm/_base.py:231: ConvergenceWarning: Solver terminated early (max_iter=100000).  Consider pre-processing your data with StandardScaler or MinMaxScaler.\n",
      "  % self.max_iter, ConvergenceWarning)\n"
     ]
    },
    {
     "name": "stdout",
     "output_type": "stream",
     "text": [
      "[CV]  svm__C=1000000.0, svm__gamma=0.01, svm__max_iter=100000, score=0.382, total=   4.6s\n",
      "[CV] svm__C=1000000.0, svm__gamma=0.01, svm__max_iter=100000 .........\n"
     ]
    },
    {
     "name": "stderr",
     "output_type": "stream",
     "text": [
      "/c/g/njit/njit-dm-scratch/final/.venv/lib/python3.7/site-packages/sklearn/svm/_base.py:231: ConvergenceWarning: Solver terminated early (max_iter=100000).  Consider pre-processing your data with StandardScaler or MinMaxScaler.\n",
      "  % self.max_iter, ConvergenceWarning)\n"
     ]
    },
    {
     "name": "stdout",
     "output_type": "stream",
     "text": [
      "[CV]  svm__C=1000000.0, svm__gamma=0.01, svm__max_iter=100000, score=0.543, total=   4.4s\n",
      "[CV] svm__C=1000000.0, svm__gamma=0.01, svm__max_iter=100000 .........\n"
     ]
    },
    {
     "name": "stderr",
     "output_type": "stream",
     "text": [
      "/c/g/njit/njit-dm-scratch/final/.venv/lib/python3.7/site-packages/sklearn/svm/_base.py:231: ConvergenceWarning: Solver terminated early (max_iter=100000).  Consider pre-processing your data with StandardScaler or MinMaxScaler.\n",
      "  % self.max_iter, ConvergenceWarning)\n"
     ]
    },
    {
     "name": "stdout",
     "output_type": "stream",
     "text": [
      "[CV]  svm__C=1000000.0, svm__gamma=0.01, svm__max_iter=100000, score=0.642, total=   4.3s\n",
      "[CV] svm__C=1000000.0, svm__gamma=0.01, svm__max_iter=100000 .........\n"
     ]
    },
    {
     "name": "stderr",
     "output_type": "stream",
     "text": [
      "/c/g/njit/njit-dm-scratch/final/.venv/lib/python3.7/site-packages/sklearn/svm/_base.py:231: ConvergenceWarning: Solver terminated early (max_iter=100000).  Consider pre-processing your data with StandardScaler or MinMaxScaler.\n",
      "  % self.max_iter, ConvergenceWarning)\n"
     ]
    },
    {
     "name": "stdout",
     "output_type": "stream",
     "text": [
      "[CV]  svm__C=1000000.0, svm__gamma=0.01, svm__max_iter=100000, score=0.595, total=   4.4s\n",
      "[CV] svm__C=1000000.0, svm__gamma=0.01, svm__max_iter=100000 .........\n"
     ]
    },
    {
     "name": "stderr",
     "output_type": "stream",
     "text": [
      "/c/g/njit/njit-dm-scratch/final/.venv/lib/python3.7/site-packages/sklearn/svm/_base.py:231: ConvergenceWarning: Solver terminated early (max_iter=100000).  Consider pre-processing your data with StandardScaler or MinMaxScaler.\n",
      "  % self.max_iter, ConvergenceWarning)\n"
     ]
    },
    {
     "name": "stdout",
     "output_type": "stream",
     "text": [
      "[CV]  svm__C=1000000.0, svm__gamma=0.01, svm__max_iter=100000, score=0.529, total=   4.2s\n",
      "[CV] svm__C=1000000.0, svm__gamma=0.01, svm__max_iter=100000 .........\n"
     ]
    },
    {
     "name": "stderr",
     "output_type": "stream",
     "text": [
      "/c/g/njit/njit-dm-scratch/final/.venv/lib/python3.7/site-packages/sklearn/svm/_base.py:231: ConvergenceWarning: Solver terminated early (max_iter=100000).  Consider pre-processing your data with StandardScaler or MinMaxScaler.\n",
      "  % self.max_iter, ConvergenceWarning)\n"
     ]
    },
    {
     "name": "stdout",
     "output_type": "stream",
     "text": [
      "[CV]  svm__C=1000000.0, svm__gamma=0.01, svm__max_iter=100000, score=0.509, total=   4.3s\n",
      "[CV] svm__C=1000000.0, svm__gamma=0.01, svm__max_iter=100000 .........\n"
     ]
    },
    {
     "name": "stderr",
     "output_type": "stream",
     "text": [
      "/c/g/njit/njit-dm-scratch/final/.venv/lib/python3.7/site-packages/sklearn/svm/_base.py:231: ConvergenceWarning: Solver terminated early (max_iter=100000).  Consider pre-processing your data with StandardScaler or MinMaxScaler.\n",
      "  % self.max_iter, ConvergenceWarning)\n"
     ]
    },
    {
     "name": "stdout",
     "output_type": "stream",
     "text": [
      "[CV]  svm__C=1000000.0, svm__gamma=0.01, svm__max_iter=100000, score=0.706, total=   4.4s\n",
      "[CV] svm__C=1000000.0, svm__gamma=0.01, svm__max_iter=100000 .........\n"
     ]
    },
    {
     "name": "stderr",
     "output_type": "stream",
     "text": [
      "/c/g/njit/njit-dm-scratch/final/.venv/lib/python3.7/site-packages/sklearn/svm/_base.py:231: ConvergenceWarning: Solver terminated early (max_iter=100000).  Consider pre-processing your data with StandardScaler or MinMaxScaler.\n",
      "  % self.max_iter, ConvergenceWarning)\n"
     ]
    },
    {
     "name": "stdout",
     "output_type": "stream",
     "text": [
      "[CV]  svm__C=1000000.0, svm__gamma=0.01, svm__max_iter=100000, score=0.643, total=   4.3s\n",
      "[CV] svm__C=1000000.0, svm__gamma=0.01, svm__max_iter=100000 .........\n"
     ]
    },
    {
     "name": "stderr",
     "output_type": "stream",
     "text": [
      "/c/g/njit/njit-dm-scratch/final/.venv/lib/python3.7/site-packages/sklearn/svm/_base.py:231: ConvergenceWarning: Solver terminated early (max_iter=100000).  Consider pre-processing your data with StandardScaler or MinMaxScaler.\n",
      "  % self.max_iter, ConvergenceWarning)\n"
     ]
    },
    {
     "name": "stdout",
     "output_type": "stream",
     "text": [
      "[CV]  svm__C=1000000.0, svm__gamma=0.01, svm__max_iter=100000, score=0.533, total=   4.5s\n",
      "[CV] svm__C=1000000.0, svm__gamma=0.01, svm__max_iter=100000 .........\n"
     ]
    },
    {
     "name": "stderr",
     "output_type": "stream",
     "text": [
      "/c/g/njit/njit-dm-scratch/final/.venv/lib/python3.7/site-packages/sklearn/svm/_base.py:231: ConvergenceWarning: Solver terminated early (max_iter=100000).  Consider pre-processing your data with StandardScaler or MinMaxScaler.\n",
      "  % self.max_iter, ConvergenceWarning)\n",
      "[Parallel(n_jobs=1)]: Done 100 out of 100 | elapsed:  2.7min finished\n"
     ]
    },
    {
     "name": "stdout",
     "output_type": "stream",
     "text": [
      "[CV]  svm__C=1000000.0, svm__gamma=0.01, svm__max_iter=100000, score=0.610, total=   4.3s\n"
     ]
    }
   ],
   "source": [
    "from sklearn.pipeline import Pipeline\n",
    "from sklearn.svm import SVC\n",
    "from sklearn.preprocessing import StandardScaler\n",
    "from sklearn.model_selection import GridSearchCV\n",
    "\n",
    "model_pipeline = Pipeline([\n",
    "    ('scale', StandardScaler()), ('svm', SVC())])\n",
    "\n",
    "#https://scikit-learn.org/stable/modules/generated/sklearn.model_selection.GridSearchCV.html\n",
    "#https://scikit-learn.org/stable/auto_examples/plot_kernel_ridge_regression.html#sphx-glr-auto-examples-plot-kernel-ridge-regression-py\n",
    "# *** https://scikit-learn.org/stable/auto_examples/model_selection/plot_grid_search_digits.html#sphx-glr-auto-examples-model-selection-plot-grid-search-digits-py\n",
    "#https://stackoverflow.com/a/45394598/140618\n",
    "\n",
    "#### *** \n",
    "# https://scikit-learn.org/stable/auto_examples/model_selection/plot_grid_search_digits.html#sphx-glr-auto-examples-model-selection-plot-grid-search-digits-py\n",
    "####\n",
    "\n",
    "# https://scikit-learn.org/stable/modules/model_evaluation.html#scoring-parameter\n",
    "\n",
    "# https://scikit-learn.org/stable/auto_examples/svm/plot_rbf_parameters.html\n",
    "\n",
    "parameteres = {\n",
    "  #  'scale__with_mean' : [True, False], # .77 wit these, .84 without?\n",
    "  #  'scale__with_std' : [True, False],\n",
    "    'svm__C':[0.001,0.1,10,100,10e5],\n",
    "    'svm__gamma':[0.1,0.01],\n",
    "    'svm__max_iter':[100000],\n",
    "    'svm__random_state' : [42]}\n",
    "\n",
    "# TODO: kill 'refit' https://scikit-learn.org/stable/modules/grid_search.html#multimetric-grid-search\n",
    "grid = GridSearchCV(\n",
    "    model_pipeline, parameteres, cv = 10,\n",
    "  #  scoring = {\n",
    "  #      'accuracy': 'accuracy',\n",
    "  #      'precision' : 'precision',\n",
    "  #      'recall' : 'recall',\n",
    "  #      'f1' : 'f1'\n",
    "  #  }, \n",
    "    #refit = 'accuracy', \n",
    "    verbose = 10\n",
    ").fit(X_train, y_train)"
   ]
  },
  {
   "cell_type": "code",
   "execution_count": 12,
   "metadata": {},
   "outputs": [
    {
     "name": "stdout",
     "output_type": "stream",
     "text": [
      "score = 0.77\n",
      "{'scale__with_mean': True, 'scale__with_std': True, 'svm__C': 10, 'svm__gamma': 0.01, 'svm__max_iter': 100000}\n"
     ]
    }
   ],
   "source": [
    "print(\"score = %3.2f\" %(grid.score(X_train,y_train)))\n",
    "print(grid.best_params_)"
   ]
  },
  {
   "cell_type": "code",
   "execution_count": 13,
   "metadata": {},
   "outputs": [
    {
     "data": {
      "text/plain": [
       "GridSearchCV(cv=10, error_score=nan,\n",
       "             estimator=Pipeline(memory=None,\n",
       "                                steps=[('scale',\n",
       "                                        StandardScaler(copy=True,\n",
       "                                                       with_mean=True,\n",
       "                                                       with_std=True)),\n",
       "                                       ('svm',\n",
       "                                        SVC(C=1.0, break_ties=False,\n",
       "                                            cache_size=200, class_weight=None,\n",
       "                                            coef0=0.0,\n",
       "                                            decision_function_shape='ovr',\n",
       "                                            degree=3, gamma='scale',\n",
       "                                            kernel='rbf', max_iter=-1,\n",
       "                                            probability=False,\n",
       "                                            random_state=None, shrinking=True,\n",
       "                                            tol=0....\n",
       "                                verbose=False),\n",
       "             iid='deprecated', n_jobs=None,\n",
       "             param_grid={'scale__with_mean': [True, False],\n",
       "                         'scale__with_std': [True, False],\n",
       "                         'svm__C': [0.001, 0.1, 10, 100, 1000000.0],\n",
       "                         'svm__gamma': [0.1, 0.01], 'svm__max_iter': [100000]},\n",
       "             pre_dispatch='2*n_jobs', refit='accuracy',\n",
       "             return_train_score=False,\n",
       "             scoring={'accuracy': 'accuracy', 'precision': 'precision',\n",
       "                      'recall': 'recall'},\n",
       "             verbose=10)"
      ]
     },
     "execution_count": 13,
     "metadata": {},
     "output_type": "execute_result"
    }
   ],
   "source": [
    "grid"
   ]
  },
  {
   "cell_type": "code",
   "execution_count": null,
   "metadata": {},
   "outputs": [],
   "source": [
    "grid.cv_results_"
   ]
  },
  {
   "cell_type": "code",
   "execution_count": 16,
   "metadata": {},
   "outputs": [
    {
     "data": {
      "text/plain": [
       "{'svm__C': 10, 'svm__gamma': 0.01, 'svm__max_iter': 100000}"
      ]
     },
     "execution_count": 16,
     "metadata": {},
     "output_type": "execute_result"
    }
   ],
   "source": [
    "grid.best_params_"
   ]
  },
  {
   "cell_type": "code",
   "execution_count": 18,
   "metadata": {},
   "outputs": [
    {
     "data": {
      "text/plain": [
       "Pipeline(memory=None,\n",
       "         steps=[('scale',\n",
       "                 StandardScaler(copy=True, with_mean=True, with_std=True)),\n",
       "                ('svm',\n",
       "                 SVC(C=10, break_ties=False, cache_size=200, class_weight=None,\n",
       "                     coef0=0.0, decision_function_shape='ovr', degree=3,\n",
       "                     gamma=0.01, kernel='rbf', max_iter=100000,\n",
       "                     probability=False, random_state=None, shrinking=True,\n",
       "                     tol=0.001, verbose=False))],\n",
       "         verbose=False)"
      ]
     },
     "execution_count": 18,
     "metadata": {},
     "output_type": "execute_result"
    }
   ],
   "source": [
    "grid.best_estimator_"
   ]
  },
  {
   "cell_type": "code",
   "execution_count": 19,
   "metadata": {},
   "outputs": [
    {
     "data": {
      "text/plain": [
       "0.7075711745881238"
      ]
     },
     "execution_count": 19,
     "metadata": {},
     "output_type": "execute_result"
    }
   ],
   "source": [
    "grid.best_score_\n"
   ]
  },
  {
   "cell_type": "code",
   "execution_count": 24,
   "metadata": {},
   "outputs": [
    {
     "data": {
      "text/plain": [
       "{'mean_fit_time': array([0.75247395, 0.72971303, 0.60026951, 0.69851217, 0.91480985,\n",
       "        0.65935476, 2.23463337, 1.13741827, 3.70260365, 4.3303313 ]),\n",
       " 'std_fit_time': array([0.02802653, 0.00808969, 0.00973134, 0.01524635, 0.02227772,\n",
       "        0.01221629, 0.0603345 , 0.01973854, 0.05604559, 0.11668648]),\n",
       " 'mean_score_time': array([0.0459583 , 0.04760151, 0.03926413, 0.04352386, 0.03264506,\n",
       "        0.03571587, 0.03076854, 0.03417389, 0.0297637 , 0.04072535]),\n",
       " 'std_score_time': array([0.00024252, 0.00262029, 0.00027601, 0.00270929, 0.00037764,\n",
       "        0.00094388, 0.00064822, 0.00040129, 0.00060382, 0.00107654]),\n",
       " 'param_svm__C': masked_array(data=[0.001, 0.001, 0.1, 0.1, 10, 10, 100, 100, 1000000.0,\n",
       "                    1000000.0],\n",
       "              mask=[False, False, False, False, False, False, False, False,\n",
       "                    False, False],\n",
       "        fill_value='?',\n",
       "             dtype=object),\n",
       " 'param_svm__gamma': masked_array(data=[0.1, 0.01, 0.1, 0.01, 0.1, 0.01, 0.1, 0.01, 0.1, 0.01],\n",
       "              mask=[False, False, False, False, False, False, False, False,\n",
       "                    False, False],\n",
       "        fill_value='?',\n",
       "             dtype=object),\n",
       " 'param_svm__max_iter': masked_array(data=[100000, 100000, 100000, 100000, 100000, 100000, 100000,\n",
       "                    100000, 100000, 100000],\n",
       "              mask=[False, False, False, False, False, False, False, False,\n",
       "                    False, False],\n",
       "        fill_value='?',\n",
       "             dtype=object),\n",
       " 'params': [{'svm__C': 0.001, 'svm__gamma': 0.1, 'svm__max_iter': 100000},\n",
       "  {'svm__C': 0.001, 'svm__gamma': 0.01, 'svm__max_iter': 100000},\n",
       "  {'svm__C': 0.1, 'svm__gamma': 0.1, 'svm__max_iter': 100000},\n",
       "  {'svm__C': 0.1, 'svm__gamma': 0.01, 'svm__max_iter': 100000},\n",
       "  {'svm__C': 10, 'svm__gamma': 0.1, 'svm__max_iter': 100000},\n",
       "  {'svm__C': 10, 'svm__gamma': 0.01, 'svm__max_iter': 100000},\n",
       "  {'svm__C': 100, 'svm__gamma': 0.1, 'svm__max_iter': 100000},\n",
       "  {'svm__C': 100, 'svm__gamma': 0.01, 'svm__max_iter': 100000},\n",
       "  {'svm__C': 1000000.0, 'svm__gamma': 0.1, 'svm__max_iter': 100000},\n",
       "  {'svm__C': 1000000.0, 'svm__gamma': 0.01, 'svm__max_iter': 100000}],\n",
       " 'split0_test_score': array([0.63230769, 0.63230769, 0.58153846, 0.58615385, 0.61384615,\n",
       "        0.58923077, 0.59692308, 0.58      , 0.52153846, 0.38153846]),\n",
       " 'split1_test_score': array([0.63230769, 0.63230769, 0.65230769, 0.70461538, 0.60615385,\n",
       "        0.69076923, 0.56615385, 0.68153846, 0.57230769, 0.54307692]),\n",
       " 'split2_test_score': array([0.63230769, 0.63230769, 0.67230769, 0.72      , 0.63538462,\n",
       "        0.65692308, 0.57384615, 0.63538462, 0.47384615, 0.64153846]),\n",
       " 'split3_test_score': array([0.63230769, 0.63230769, 0.71846154, 0.72      , 0.7       ,\n",
       "        0.70615385, 0.65538462, 0.70153846, 0.58461538, 0.59538462]),\n",
       " 'split4_test_score': array([0.63384615, 0.63384615, 0.74      , 0.72461538, 0.71692308,\n",
       "        0.72923077, 0.66461538, 0.71692308, 0.56      , 0.52923077]),\n",
       " 'split5_test_score': array([0.63384615, 0.63384615, 0.72153846, 0.70461538, 0.71692308,\n",
       "        0.74461538, 0.68461538, 0.73384615, 0.62461538, 0.50923077]),\n",
       " 'split6_test_score': array([0.63384615, 0.63384615, 0.75692308, 0.69538462, 0.77538462,\n",
       "        0.74615385, 0.76923077, 0.74615385, 0.68153846, 0.70615385]),\n",
       " 'split7_test_score': array([0.63328197, 0.63328197, 0.73805855, 0.69799692, 0.74884438,\n",
       "        0.73651772, 0.74576271, 0.74268105, 0.66255778, 0.64252696]),\n",
       " 'split8_test_score': array([0.63328197, 0.63328197, 0.74884438, 0.69029276, 0.77195686,\n",
       "        0.75192604, 0.73959938, 0.75038521, 0.69953775, 0.53312789]),\n",
       " 'split9_test_score': array([0.63328197, 0.63328197, 0.7257319 , 0.70570108, 0.77041602,\n",
       "        0.72419106, 0.7164869 , 0.74268105, 0.63790447, 0.61016949]),\n",
       " 'mean_test_score': array([0.63306151, 0.63306151, 0.70557117, 0.69493754, 0.70558326,\n",
       "        0.70757117, 0.67126182, 0.70311319, 0.60184615, 0.56919782]),\n",
       " 'std_test_score': array([0.00065313, 0.00065313, 0.05187052, 0.03782225, 0.0623463 ,\n",
       "        0.04823433, 0.06957151, 0.05344676, 0.06866797, 0.08609559]),\n",
       " 'rank_test_score': array([ 7,  7,  3,  5,  2,  1,  6,  4,  9, 10], dtype=int32)}"
      ]
     },
     "execution_count": 24,
     "metadata": {},
     "output_type": "execute_result"
    }
   ],
   "source": [
    "grid.cv_results_"
   ]
  },
  {
   "cell_type": "code",
   "execution_count": null,
   "metadata": {},
   "outputs": [],
   "source": []
  }
 ],
 "metadata": {
  "kernelspec": {
   "display_name": "Python 3",
   "language": "python",
   "name": "python3"
  },
  "language_info": {
   "codemirror_mode": {
    "name": "ipython",
    "version": 3
   },
   "file_extension": ".py",
   "mimetype": "text/x-python",
   "name": "python",
   "nbconvert_exporter": "python",
   "pygments_lexer": "ipython3",
   "version": "3.7.5"
  }
 },
 "nbformat": 4,
 "nbformat_minor": 4
}
