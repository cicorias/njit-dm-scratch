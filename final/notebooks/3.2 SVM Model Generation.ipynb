{
 "cells": [
  {
   "cell_type": "markdown",
   "metadata": {},
   "source": [
    "## 3.2 - Model Generation\n",
    "\n",
    "This secton covers the model training, testing, and tuning of both the Support Vector Machine and a Decision Tree.\n",
    "\n",
    "### 3.3.1 - Support Vector Machine Training\n",
    "\n",
    "For SVM training experimentation covered the following:\n",
    "- a) use of multi-class for quality range of 0-1\n",
    "- b) use of binary class for quality range of 0,1\n",
    "- c) use of all features - standardized using StandardScaler\n",
    "- d) use of select features with high correlation to quality outcome using StandardScaler\n",
    "\n",
    "Experiments take advantage of the pipeline and grid search capabiliteis of SciKit that allows providing a range of parameters (hyperparameters) along with Preprocessing, the Model, and Cross Fold validation settings and SciKit learn will run through all the combinations and generate the \"best\" in terms of Accuracy.\n",
    "\n",
    "#### 3.3.1.1 Loading and setting up test and training datasets.\n",
    "\n",
    "Since we are going to use a cross fold with k = 10, we rely on Scikit's ability to split the train and test data sets during the fitting/training.  Scikit provides the spliting and stratification of the data. This is described in detail at [3.1. Cross-validation: evaluating estimator performance](https://scikit-learn.org/stable/modules/cross_validation.html)\n",
    "\n",
    "\n",
    "From the diagram below (also at the previous web page), this is a generalized view of cross validation. For each train iteration some subset of the overall data is for training, and testing. \n",
    "\n",
    "![](./images/grid_search_cross_validation.png)\n",
    "\n",
    "\n",
    "##### 3.3.1.1.1 Stratified K Fold\n",
    "\n",
    "For this experimentation, stratification is desired. This ensures that the classes are proportionally represented in each of the folds as the same proportion for the overall dataset. There is plenty of data for this to work well and given the data is binary classes (good, not good wine), this helps just a little bit. With greater number of classes this would have a greater impact.\n",
    "\n",
    "The diagram below, also from the previous website, discusses the Scikit implementation of the StrafifiedKFold class. For this experiment we are not using groups.\n",
    "\n",
    "![](./images/sphx_glr_plot_cv_indices_0071.png)\n",
    "\n"
   ]
  },
  {
   "cell_type": "code",
   "execution_count": 21,
   "metadata": {},
   "outputs": [
    {
     "name": "stdout",
     "output_type": "stream",
     "text": [
      "The autoreload extension is already loaded. To reload it, use:\n",
      "  %reload_ext autoreload\n",
      "path exist and not forced\n",
      "path exist and not forced\n"
     ]
    }
   ],
   "source": [
    "#this is for development only and not relevant\n",
    "%load_ext autoreload\n",
    "%autoreload\n",
    "\n",
    "\n",
    "## lets load the data\n",
    "from utils.helpers import *\n",
    "df_red, df_white, df_all = pull_and_load_data(force = False)\n",
    "\n",
    "# create a X_train that is just the features and the associated\n",
    "# classes (labels) that have been convered to binary classes -- \"not good wine\", \"good wine\"\n",
    "# as described before\n",
    "X_train, y_train = get_features_and_labels(df_all, binary = True)\n",
    "\n"
   ]
  },
  {
   "cell_type": "markdown",
   "metadata": {},
   "source": [
    "#### 3.3.1.2 - Model Hyperparameter Tuning\n",
    "\n",
    "Here we leverage a grid search that will run through the model training. Within Scikit the GridSearchCV can provide a matrix search across all combinations of parameters along with k-fold cross validation of the underlying data. This helps with the manual effort of just run, change parameters, run, that experimentation provides.  This takes quite some time across a wider set of parameters. \n",
    "\n",
    "For Support Vector Machines the implementation in Scikit provides for two key parameters that affect the training and outcome. A detailed explanation and visualizations is here: [SVC Parameters When Using RBF Kernel - Classify Using a RBF Kernel](https://chrisalbon.com/machine_learning/support_vector_machines/svc_parameters_using_rbf_kernel/).\n",
    "\n",
    "These two key parameters are:\n",
    "- C\n",
    "    - essentially the tolerance for misclassified data and impact on the loss. When C is high, there is LESS tolerance and a penalty is paid; low C, there is greater tolerance and less penalty.\n",
    "    \n",
    "- gamma\n",
    "    - Higher the gamma, better chance of overfitting. Gamma is the decision boundary, effectively the padding around the decision points.\n",
    "    \n",
    "    \n",
    "As with fitting and training, there are iteratations for each run of the training data that the model sees before adjusting the next set of parameters during gradient descent.\n",
    "\n",
    "For this exercise, some of these models take extremely long to converge and limiting the maximum iterations using the `n_iters` was used.\n",
    "\n",
    "\n",
    "#### 3.3.1.2.1 - Pipeline\n",
    "\n",
    "The pipeline allows establishing a data preprocessor, in this case the StandardScaler as mentioned in the prior section. Along with the paramter grid, and finally the cross validation module.\n",
    "\n",
    "> Note: I had to explicitly include the `StratifiedKFold` instance as below as although GridSearchCV and the cross_val_score Scikit tools would use the same, they would NOT set the shuffle value to True. In this model I'd like to not rely on physical order, but random presentation of the data. I'm doing this as the final model I will not take from grid search, but from a direct `cross_val_score` run against the data with the **Best** parameters emitted from grid search.\n",
    "\n",
    "\n",
    "**Now, ready to setup and fit...**\n",
    "\n"
   ]
  },
  {
   "cell_type": "code",
   "execution_count": 22,
   "metadata": {},
   "outputs": [
    {
     "data": {
      "text/plain": [
       "GridSearchCV(cv=StratifiedKFold(n_splits=10, random_state=42, shuffle=True),\n",
       "             error_score=nan,\n",
       "             estimator=Pipeline(memory=None,\n",
       "                                steps=[('scale',\n",
       "                                        StandardScaler(copy=True,\n",
       "                                                       with_mean=True,\n",
       "                                                       with_std=True)),\n",
       "                                       ('svm',\n",
       "                                        SVC(C=1.0, break_ties=False,\n",
       "                                            cache_size=200, class_weight=None,\n",
       "                                            coef0=0.0,\n",
       "                                            decision_function_shape='ovr',\n",
       "                                            degree=3, gamma='scale',\n",
       "                                            kernel='rbf', max_iter=-1,\n",
       "                                            probability=False,\n",
       "                                            random_state=None, shrinking=True,\n",
       "                                            tol=0.001, verbose=False))],\n",
       "                                verbose=False),\n",
       "             iid='deprecated', n_jobs=None,\n",
       "             param_grid={'svm__C': [1, 10, 100],\n",
       "                         'svm__gamma': [0.01, 0.1, 1.0, 100],\n",
       "                         'svm__max_iter': [1000000], 'svm__random_state': [42],\n",
       "                         'svm__verbose': [False]},\n",
       "             pre_dispatch='2*n_jobs', refit=True, return_train_score=True,\n",
       "             scoring=None, verbose=0)"
      ]
     },
     "execution_count": 22,
     "metadata": {},
     "output_type": "execute_result"
    }
   ],
   "source": [
    "from sklearn.pipeline import Pipeline\n",
    "from sklearn.svm import SVC\n",
    "from sklearn.preprocessing import StandardScaler\n",
    "from sklearn.model_selection import GridSearchCV\n",
    "from sklearn.model_selection import StratifiedKFold\n",
    "\n",
    "model_pipeline = Pipeline([\n",
    "    ('scale', StandardScaler()), \n",
    "    ('svm', SVC())\n",
    "])\n",
    "\n",
    "parameteres = {\n",
    "    'svm__C':[1, 10, 100],\n",
    "    'svm__gamma':[0.01, 0.1, 1.0, 100], #'scale'],\n",
    "    #'svn__kernel' : ['rbf'], #this is the default\n",
    "    'svm__max_iter':[1000000],\n",
    "    'svm__random_state' : [42],\n",
    "    'svm__verbose': [False]}\n",
    "\n",
    "# 10 is the number of folks as requested in the project assignment.\n",
    "\n",
    "skf = StratifiedKFold(n_splits = 10,\n",
    "                      shuffle = True,\n",
    "                      random_state = 42)\n",
    "\n",
    "grid = GridSearchCV(\n",
    "    model_pipeline,\n",
    "    parameteres,\n",
    "    cv = skf,\n",
    "    return_train_score = True,\n",
    "    verbose = 0\n",
    ")\n",
    "\n",
    "grid.fit(X_train, y_train)\n",
    "\n",
    "print('done training')"
   ]
  },
  {
   "cell_type": "markdown",
   "metadata": {},
   "source": [
    "\n",
    "#### 3.3.1.2.2 - Pipeline / Grid Result\n",
    "\n",
    "Now lets take a look at the `best score`, `best parameters` as these will be what is used in the direct scoring run further down.\n"
   ]
  },
  {
   "cell_type": "code",
   "execution_count": 23,
   "metadata": {},
   "outputs": [
    {
     "name": "stdout",
     "output_type": "stream",
     "text": [
      "score = 0.8088\n",
      "{'svm__C': 10, 'svm__gamma': 1.0, 'svm__max_iter': 1000000, 'svm__random_state': 42, 'svm__verbose': False}\n"
     ]
    }
   ],
   "source": [
    "\n",
    "print(\"score = %3.4f\" %(grid.best_score_))\n",
    "print(grid.best_params_)"
   ]
  },
  {
   "cell_type": "markdown",
   "metadata": {},
   "source": [
    "\n",
    "We can see that the grid search best score is above, along with the best parameters that achieved that score.\n",
    "\n",
    "#### 3.3.1.2.1 - Best Estimator\n",
    "\n",
    "Interesting enough, we can retrieve the instance of the estimator (instance of the SVC class) and run the model for scoring against the dataset.\n",
    "\n",
    "Lets emit a few values that come back from the grid search.\n"
   ]
  },
  {
   "cell_type": "code",
   "execution_count": 36,
   "metadata": {},
   "outputs": [
    {
     "name": "stdout",
     "output_type": "stream",
     "text": [
      "Best estimator score: 0.9952\n",
      "Grid Score: 0.9952\n",
      "Grid Best Score: 0.8088\n"
     ]
    }
   ],
   "source": [
    "\n",
    "print('Best estimator score: {:.4f}'.format(grid.best_estimator_.score(X_train, y_train)))\n",
    "print('Grid Score: {:.4f}'.format(grid.score(X_train, y_train)))\n",
    "print('Grid Best Score: {:.4f}'.format(grid.best_score_))\n"
   ]
  },
  {
   "cell_type": "markdown",
   "metadata": {},
   "source": [
    "\n",
    "#### 3.3.1.2.2 - Explanation of differences\n",
    "\n",
    "After this step, the Grid Best score is what we will work with. However, to explain why the differences in the scoring above you have to understand what the `best_estimator` is.\n",
    "\n",
    "The `best_estimator+_` attached to the grid object is an instance of the solver, in this case SVC, that achieve the highest score **for a specific fold** - and not the entire cross validation iterations.  That same solver is also used when calling the grid's `score` function. It does not represent the best score and solver (with the specific parameters - C and gamma) that had the best score when run against all 10 folds.\n",
    "\n",
    "The grid's `best_score_` attribute is that value.\n",
    "\n",
    "\n",
    "#### 3.3.1.3 - Rerunning the Training\n",
    "\n",
    "At this point we take a track that indicates we have optimized two key parameters, C and gamma, and again, apply a different function from Scikit that runs the same cross validation, but using one set of parameters.\n",
    "\n",
    "This approach is still a great time saver as it eliminates the need to manually segment the data, ensure it is stratified, and collect the results.\n",
    "\n",
    "First, the output of the grid search gave us:\n",
    "\n",
    "```\n",
    "score = 0.8088\n",
    "{'svm__C': 10, 'svm__gamma': 1.0, 'svm__max_iter': 1000000, 'svm__random_state': 42, 'svm__verbose': False}\n",
    "```\n",
    "\n",
    "Now plug those into the SVC instance along with the same settings for the StratifedKFold processor.\n",
    "\n",
    "The other key concern is ensuring we are also applying the same scaling to the data. Here again, the StandardScaler, as used in GridSerch above is used:\n",
    "\n"
   ]
  },
  {
   "cell_type": "code",
   "execution_count": 37,
   "metadata": {},
   "outputs": [
    {
     "name": "stdout",
     "output_type": "stream",
     "text": [
      "path exist and not forced\n",
      "path exist and not forced\n"
     ]
    }
   ],
   "source": [
    "# to be sure, reload data from scratch:\n",
    "\n",
    "## lets load the data\n",
    "from utils.helpers import *\n",
    "df_red, df_white, df_all = pull_and_load_data(force = False)\n",
    "\n",
    "# create a X_train that is just the features and the associated\n",
    "# classes (labels) that have been convered to binary classes -- \"not good wine\", \"good wine\"\n",
    "# as described before\n",
    "X_train, y_train = get_features_and_labels(df_all, binary = True)\n",
    "\n"
   ]
  },
  {
   "cell_type": "code",
   "execution_count": 46,
   "metadata": {},
   "outputs": [
    {
     "name": "stdout",
     "output_type": "stream",
     "text": [
      "Accuracy: 0.8088 (+/- 0.03)\n"
     ]
    },
    {
     "data": {
      "text/plain": [
       "array([0.79538462, 0.78461538, 0.82461538, 0.82307692, 0.80769231,\n",
       "       0.82461538, 0.81846154, 0.8027735 , 0.81664099, 0.79044684])"
      ]
     },
     "execution_count": 46,
     "metadata": {},
     "output_type": "execute_result"
    }
   ],
   "source": [
    "from sklearn.model_selection import cross_val_score\n",
    "from sklearn.svm import SVC\n",
    "from sklearn.preprocessing import StandardScaler\n",
    "from sklearn.model_selection import StratifiedKFold\n",
    "\n",
    "scaler = StandardScaler()  # Normalizer()\n",
    "X = scaler.fit_transform(X_train)\n",
    "\n",
    "skf = StratifiedKFold(n_splits = 10,\n",
    "                      random_state = 42, \n",
    "                      shuffle = True)\n",
    "\n",
    "svm = SVC(\n",
    "    kernel = 'rbf',\n",
    "    C = 10,\n",
    "    gamma = 1.0,\n",
    "    max_iter = 100000,\n",
    "    random_state = 42,\n",
    "    verbose = False)\n",
    "\n",
    "scores = cross_val_score(\n",
    "    svm,\n",
    "    X, # used the scaled data...\n",
    "    y_train,\n",
    "    cv = skf,\n",
    "    verbose = 0) #, scoring=scoring)\n",
    "\n",
    "\n",
    "#The mean score and the 95% confidence interval of the score estimate are hence given by:\n",
    "print(\"Accuracy: %0.4f (+/- %0.2f)\" % (scores.mean(), scores.std() * 2))\n",
    "scores\n",
    "\n",
    "\n"
   ]
  },
  {
   "cell_type": "markdown",
   "metadata": {},
   "source": [
    "\n",
    "\n",
    "#### 3.3.2 - ROC and AUC\n",
    "\n",
    "There's plenty of observations that it is possible to generate the Receiver Operating Characteristics (ROC) curve and the Area Under the Curve (AUC).\n",
    "\n",
    "With Skikit learn it takes use of the same `cross_validation` set of helper functions just supplying what `method` to be used.\n",
    "\n",
    "In this case, the `SVC` class has a `decision_function` that can provide the probabilities needed for each of the data points. Normally, a call to `cross_val_predict` would call the `predict` on the classifer, which just provides the class prediction based upon the input features.\n",
    "\n",
    "But here, we are using it to generate our ROC data."
   ]
  },
  {
   "cell_type": "code",
   "execution_count": 68,
   "metadata": {},
   "outputs": [],
   "source": [
    "\n",
    "\n",
    "from sklearn.model_selection import cross_val_predict\n",
    "y_pred = cross_val_predict(\n",
    "    svm,\n",
    "    X_train,\n",
    "    y_train,\n",
    "    cv = skf,\n",
    "    method = 'decision_function',\n",
    "    verbose = 0)\n",
    "\n",
    "from sklearn.metrics import roc_curve, auc\n",
    "\n",
    "fpr = dict()\n",
    "tpr = dict()\n",
    "roc_auc = dict()\n",
    "\n",
    "# we only have 0 or 1 as our classes (its binary)\n",
    "for i in range(0,2):\n",
    "    fpr[i], tpr[i], _ = roc_curve(y_train, y_pred)\n",
    "    roc_auc[i] = auc(fpr[i], tpr[i])\n",
    "        "
   ]
  },
  {
   "cell_type": "code",
   "execution_count": 80,
   "metadata": {},
   "outputs": [
    {
     "data": {
      "text/plain": [
       "[<matplotlib.lines.Line2D at 0x7f0995ae2450>]"
      ]
     },
     "execution_count": 80,
     "metadata": {},
     "output_type": "execute_result"
    },
    {
     "data": {
      "image/png": "[encoded data removed]",
      "text/plain": [
       "<Figure size 432x288 with 1 Axes>"
      ]
     },
     "metadata": {
      "needs_background": "light"
     },
     "output_type": "display_data"
    }
   ],
   "source": [
    "\n",
    "\n"
   ]
  },
  {
   "cell_type": "code",
   "execution_count": 71,
   "metadata": {},
   "outputs": [],
   "source": [
    "lw = 2\n",
    "plt.plot(fpr[0], tpr[0], color='darkorange',\n",
    "         lw=lw, label='ROC curve (area = %0.2f)' % roc_auc[0])"
   ]
  },
  {
   "cell_type": "markdown",
   "metadata": {},
   "source": [
    "\n",
    "### 3.3.3 Summary - TODO: move to bottom\n",
    "\n",
    "In this section we ran some extensive training looking for optimal hyperparametes for the solver (algorithm) we used. While our grid search achieved a fairly high accuracy score, we also validated the result with a stand-alone cross validation scoring, while explaining some of the Scikit and Support Vector Machine implementation detials.\n",
    "\n",
    "What we will seee with the other Classifier, a Decision Tree, there is quite a bit less to fiddle in terms of hyperparameters due to its deterministic and lack of optimization techniques like Gradient Descent.  The question is, which is better.\n",
    "\n",
    "\n"
   ]
  },
  {
   "cell_type": "code",
   "execution_count": null,
   "metadata": {},
   "outputs": [],
   "source": []
  }
 ],
 "metadata": {
  "kernelspec": {
   "display_name": "Python 3",
   "language": "python",
   "name": "python3"
  },
  "language_info": {
   "codemirror_mode": {
    "name": "ipython",
    "version": 3
   },
   "file_extension": ".py",
   "mimetype": "text/x-python",
   "name": "python",
   "nbconvert_exporter": "python",
   "pygments_lexer": "ipython3",
   "version": "3.7.5"
  }
 },
 "nbformat": 4,
 "nbformat_minor": 4
}
