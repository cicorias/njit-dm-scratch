{
  "nbformat": 4,
  "nbformat_minor": 0,
  "metadata": {
    "colab": {
      "name": "NJIT DM experiments.ipynb",
      "provenance": [],
      "collapsed_sections": []
    },
    "kernelspec": {
      "name": "python3",
      "display_name": "Python 3"
    }
  },
  "cells": [
    {
      "cell_type": "code",
      "metadata": {
        "id": "iJw32s-BeGhh",
        "colab_type": "code",
        "colab": {}
      },
      "source": [
        "from sklearn.svm import SVC, LinearSVC\n",
        "from sklearn.preprocessing import StandardScaler, Normalizer\n",
        "from sklearn.datasets import load_iris\n",
        "from sklearn.model_selection import StratifiedShuffleSplit\n",
        "from sklearn.model_selection import GridSearchCV\n",
        "\n",
        "import numpy as np\n",
        "\n",
        "from helpers import *"
      ],
      "execution_count": 0,
      "outputs": []
    },
    {
      "cell_type": "code",
      "metadata": {
        "id": "y3fB7fA-eOQv",
        "colab_type": "code",
        "colab": {
          "base_uri": "https://localhost:8080/",
          "height": 51
        },
        "outputId": "dd4f7265-4e99-4b2c-a5da-2191cf8b9391"
      },
      "source": [
        "np.logspace(-9, 3, 13)"
      ],
      "execution_count": 8,
      "outputs": [
        {
          "output_type": "execute_result",
          "data": {
            "text/plain": [
              "array([1.e-09, 1.e-08, 1.e-07, 1.e-06, 1.e-05, 1.e-04, 1.e-03, 1.e-02,\n",
              "       1.e-01, 1.e+00, 1.e+01, 1.e+02, 1.e+03])"
            ]
          },
          "metadata": {
            "tags": []
          },
          "execution_count": 8
        }
      ]
    },
    {
      "cell_type": "code",
      "metadata": {
        "id": "q1TB9Z8oe_hM",
        "colab_type": "code",
        "colab": {}
      },
      "source": [
        "data_path_red = './winequality-red.csv'\n",
        "data_path_white = './winequality-white.csv'\n",
        "\n",
        "\n",
        "df_red, df_white, df_all = load_data(data_path_red, data_path_white)\n",
        "\n",
        "X, y = get_features_and_labels(df_all)\n",
        "\n",
        "X =  X.to_numpy()\n",
        "y = y.to_numpy()\n",
        "\n",
        "y = np.where(y > 5, 1, 0)"
      ],
      "execution_count": 0,
      "outputs": []
    },
    {
      "cell_type": "code",
      "metadata": {
        "id": "oip4_6BgeiZV",
        "colab_type": "code",
        "colab": {
          "base_uri": "https://localhost:8080/",
          "height": 411
        },
        "outputId": "c5d7067b-1cfc-4af4-d2da-5b0d320e21f0"
      },
      "source": [
        "\n",
        "#C_range = np.logspace(-2, 10, 13)\n",
        "#gamma_range = np.logspace(-9, 3, 13)\n",
        "param_grid = dict(gamma=[10, 1, 0.1, 0.001], C=[1, 0.1, 0.001], max_iter =[5000])\n",
        "\n",
        "\n",
        "grid = GridSearchCV(SVC(), param_grid=param_grid)\n",
        "grid.fit(X, y)"
      ],
      "execution_count": 36,
      "outputs": [
        {
          "output_type": "stream",
          "text": [
            "/usr/local/lib/python3.6/dist-packages/sklearn/svm/_base.py:231: ConvergenceWarning: Solver terminated early (max_iter=5000).  Consider pre-processing your data with StandardScaler or MinMaxScaler.\n",
            "  % self.max_iter, ConvergenceWarning)\n",
            "/usr/local/lib/python3.6/dist-packages/sklearn/svm/_base.py:231: ConvergenceWarning: Solver terminated early (max_iter=5000).  Consider pre-processing your data with StandardScaler or MinMaxScaler.\n",
            "  % self.max_iter, ConvergenceWarning)\n",
            "/usr/local/lib/python3.6/dist-packages/sklearn/svm/_base.py:231: ConvergenceWarning: Solver terminated early (max_iter=5000).  Consider pre-processing your data with StandardScaler or MinMaxScaler.\n",
            "  % self.max_iter, ConvergenceWarning)\n",
            "/usr/local/lib/python3.6/dist-packages/sklearn/svm/_base.py:231: ConvergenceWarning: Solver terminated early (max_iter=5000).  Consider pre-processing your data with StandardScaler or MinMaxScaler.\n",
            "  % self.max_iter, ConvergenceWarning)\n",
            "/usr/local/lib/python3.6/dist-packages/sklearn/svm/_base.py:231: ConvergenceWarning: Solver terminated early (max_iter=5000).  Consider pre-processing your data with StandardScaler or MinMaxScaler.\n",
            "  % self.max_iter, ConvergenceWarning)\n"
          ],
          "name": "stderr"
        },
        {
          "output_type": "execute_result",
          "data": {
            "text/plain": [
              "GridSearchCV(cv=None, error_score=nan,\n",
              "             estimator=SVC(C=1.0, break_ties=False, cache_size=200,\n",
              "                           class_weight=None, coef0=0.0,\n",
              "                           decision_function_shape='ovr', degree=3,\n",
              "                           gamma='scale', kernel='rbf', max_iter=-1,\n",
              "                           probability=False, random_state=None, shrinking=True,\n",
              "                           tol=0.001, verbose=False),\n",
              "             iid='deprecated', n_jobs=None,\n",
              "             param_grid={'C': [1, 0.1, 0.001], 'gamma': [10, 1, 0.1, 0.001],\n",
              "                         'max_iter': [5000]},\n",
              "             pre_dispatch='2*n_jobs', refit=True, return_train_score=False,\n",
              "             scoring=None, verbose=0)"
            ]
          },
          "metadata": {
            "tags": []
          },
          "execution_count": 36
        }
      ]
    },
    {
      "cell_type": "code",
      "metadata": {
        "id": "xIxqlLA1frDJ",
        "colab_type": "code",
        "colab": {
          "base_uri": "https://localhost:8080/",
          "height": 34
        },
        "outputId": "c9485ebe-7d79-4ed2-c8ad-4c756625c13f"
      },
      "source": [
        "print(\"The best parameters are %s with a score of %0.2f\"\n",
        "      % (grid.best_params_, grid.best_score_))"
      ],
      "execution_count": 37,
      "outputs": [
        {
          "output_type": "stream",
          "text": [
            "The best parameters are {'C': 1, 'gamma': 0.1, 'max_iter': 5000} with a score of 0.67\n"
          ],
          "name": "stdout"
        }
      ]
    },
    {
      "cell_type": "code",
      "metadata": {
        "id": "MuSAVZK5frht",
        "colab_type": "code",
        "colab": {
          "base_uri": "https://localhost:8080/",
          "height": 85
        },
        "outputId": "b2cb465d-0034-4494-968f-8190a5213082"
      },
      "source": [
        "scaler = StandardScaler()  # Normalizer()\n",
        "X = scaler.fit_transform(X)\n",
        "\n",
        "svc = SVC(max_iter=-1, verbose=2)\n",
        "svc.fit(X,y)"
      ],
      "execution_count": 29,
      "outputs": [
        {
          "output_type": "stream",
          "text": [
            "[LibSVM]"
          ],
          "name": "stdout"
        },
        {
          "output_type": "execute_result",
          "data": {
            "text/plain": [
              "SVC(C=1.0, break_ties=False, cache_size=200, class_weight=None, coef0=0.0,\n",
              "    decision_function_shape='ovr', degree=3, gamma='scale', kernel='rbf',\n",
              "    max_iter=-1, probability=False, random_state=None, shrinking=True,\n",
              "    tol=0.001, verbose=3)"
            ]
          },
          "metadata": {
            "tags": []
          },
          "execution_count": 29
        }
      ]
    },
    {
      "cell_type": "code",
      "metadata": {
        "id": "dRl9ImKbh9hY",
        "colab_type": "code",
        "colab": {
          "base_uri": "https://localhost:8080/",
          "height": 85
        },
        "outputId": "02e089e6-9624-4c75-c432-b5637f95062d"
      },
      "source": [
        ""
      ],
      "execution_count": 26,
      "outputs": [
        {
          "output_type": "execute_result",
          "data": {
            "text/plain": [
              "SVC(C=1.0, break_ties=False, cache_size=200, class_weight=None, coef0=0.0,\n",
              "    decision_function_shape='ovr', degree=3, gamma='scale', kernel='rbf',\n",
              "    max_iter=-1, probability=False, random_state=None, shrinking=True,\n",
              "    tol=0.001, verbose=False)"
            ]
          },
          "metadata": {
            "tags": []
          },
          "execution_count": 26
        }
      ]
    },
    {
      "cell_type": "code",
      "metadata": {
        "id": "CKTwc7b7gQB6",
        "colab_type": "code",
        "colab": {
          "base_uri": "https://localhost:8080/",
          "height": 34
        },
        "outputId": "a761696d-63d9-42e4-9986-f4d03e50478a"
      },
      "source": [
        "data_path_red = './winequality-red.csv'\n",
        "data_path_white = './winequality-white.csv'\n",
        "\n",
        "\n",
        "df_red, df_white, df_all = load_data(data_path_red, data_path_white)\n",
        "\n",
        "X, y = get_features_and_labels(df_all)\n",
        "\n",
        "d_t = df_all.loc[:, ['alcohol', 'density', 'citric_acid']]\n",
        "\n",
        "X = d_t.to_numpy() #  X.to_numpy()\n",
        "y = y.to_numpy()\n",
        "\n",
        "scaler = StandardScaler()  # Normalizer()\n",
        "X = scaler.fit_transform(X)\n",
        "\n",
        "y = np.where(y > 5, 1, 0)\n",
        "\n",
        "#C_range = np.logspace(-2, 10, 13)\n",
        "#gamma_range = np.logspace(-9, 3, 13)\n",
        "param_grid = dict(gamma=[10, 1, 0.1, 0.001], C=[1, 0.1, 0.001], max_iter =[5000])\n",
        "\n",
        "\n",
        "grid = GridSearchCV(SVC(), param_grid=param_grid)\n",
        "grid.fit(X[:, :2], y)\n",
        "\n",
        "print(\"The best parameters are %s with a score of %0.2f\"\n",
        "      % (grid.best_params_, grid.best_score_))"
      ],
      "execution_count": 55,
      "outputs": [
        {
          "output_type": "stream",
          "text": [
            "The best parameters are {'C': 0.1, 'gamma': 0.1, 'max_iter': 5000} with a score of 0.68\n"
          ],
          "name": "stdout"
        }
      ]
    },
    {
      "cell_type": "code",
      "metadata": {
        "id": "7rOilpEfhkLa",
        "colab_type": "code",
        "colab": {
          "base_uri": "https://localhost:8080/",
          "height": 34
        },
        "outputId": "f4e06634-39c8-4215-e8d2-ddd49766c24f"
      },
      "source": [
        "np.unique(y)"
      ],
      "execution_count": 56,
      "outputs": [
        {
          "output_type": "execute_result",
          "data": {
            "text/plain": [
              "array([0, 1])"
            ]
          },
          "metadata": {
            "tags": []
          },
          "execution_count": 56
        }
      ]
    },
    {
      "cell_type": "code",
      "metadata": {
        "id": "rXY2kEQIp-I0",
        "colab_type": "code",
        "colab": {
          "base_uri": "https://localhost:8080/",
          "height": 496
        },
        "outputId": "0b40bb1c-346e-4678-d30e-1417dbd1a6a6"
      },
      "source": [
        "data_path_red = './winequality-red.csv'\n",
        "data_path_white = './winequality-white.csv'\n",
        "\n",
        "\n",
        "df_red, df_white, df_all = load_data(data_path_red, data_path_white)\n",
        "\n",
        "X, y = get_features_and_labels(df_all)\n",
        "\n",
        "d_t = df_all.loc[:, ['alcohol', 'density', 'citric_acid']]\n",
        "\n",
        "X = d_t.to_numpy() #  X.to_numpy()\n",
        "y = y.to_numpy()\n",
        "\n",
        "scaler = StandardScaler()  # Normalizer()\n",
        "X = scaler.fit_transform(X)\n",
        "\n",
        "#y = np.where(y > 5, 1, 0)\n",
        "\n",
        "#C_range = np.logspace(-2, 10, 13)\n",
        "#gamma_range = np.logspace(-9, 3, 13)\n",
        "param_grid = dict(gamma=[10, 1, 0.1, 0.001], C=[1, 0.1, 0.001], max_iter =[5000])\n",
        "\n",
        "\n",
        "grid = GridSearchCV(SVC(), param_grid=param_grid)\n",
        "grid.fit(X[:, :2], y)\n",
        "\n",
        "print(\"The best parameters are %s with a score of %0.2f\"\n",
        "      % (grid.best_params_, grid.best_score_))"
      ],
      "execution_count": 57,
      "outputs": [
        {
          "output_type": "stream",
          "text": [
            "/usr/local/lib/python3.6/dist-packages/sklearn/svm/_base.py:231: ConvergenceWarning: Solver terminated early (max_iter=5000).  Consider pre-processing your data with StandardScaler or MinMaxScaler.\n",
            "  % self.max_iter, ConvergenceWarning)\n",
            "/usr/local/lib/python3.6/dist-packages/sklearn/svm/_base.py:231: ConvergenceWarning: Solver terminated early (max_iter=5000).  Consider pre-processing your data with StandardScaler or MinMaxScaler.\n",
            "  % self.max_iter, ConvergenceWarning)\n",
            "/usr/local/lib/python3.6/dist-packages/sklearn/svm/_base.py:231: ConvergenceWarning: Solver terminated early (max_iter=5000).  Consider pre-processing your data with StandardScaler or MinMaxScaler.\n",
            "  % self.max_iter, ConvergenceWarning)\n",
            "/usr/local/lib/python3.6/dist-packages/sklearn/svm/_base.py:231: ConvergenceWarning: Solver terminated early (max_iter=5000).  Consider pre-processing your data with StandardScaler or MinMaxScaler.\n",
            "  % self.max_iter, ConvergenceWarning)\n",
            "/usr/local/lib/python3.6/dist-packages/sklearn/svm/_base.py:231: ConvergenceWarning: Solver terminated early (max_iter=5000).  Consider pre-processing your data with StandardScaler or MinMaxScaler.\n",
            "  % self.max_iter, ConvergenceWarning)\n",
            "/usr/local/lib/python3.6/dist-packages/sklearn/svm/_base.py:231: ConvergenceWarning: Solver terminated early (max_iter=5000).  Consider pre-processing your data with StandardScaler or MinMaxScaler.\n",
            "  % self.max_iter, ConvergenceWarning)\n",
            "/usr/local/lib/python3.6/dist-packages/sklearn/svm/_base.py:231: ConvergenceWarning: Solver terminated early (max_iter=5000).  Consider pre-processing your data with StandardScaler or MinMaxScaler.\n",
            "  % self.max_iter, ConvergenceWarning)\n",
            "/usr/local/lib/python3.6/dist-packages/sklearn/svm/_base.py:231: ConvergenceWarning: Solver terminated early (max_iter=5000).  Consider pre-processing your data with StandardScaler or MinMaxScaler.\n",
            "  % self.max_iter, ConvergenceWarning)\n",
            "/usr/local/lib/python3.6/dist-packages/sklearn/svm/_base.py:231: ConvergenceWarning: Solver terminated early (max_iter=5000).  Consider pre-processing your data with StandardScaler or MinMaxScaler.\n",
            "  % self.max_iter, ConvergenceWarning)\n",
            "/usr/local/lib/python3.6/dist-packages/sklearn/svm/_base.py:231: ConvergenceWarning: Solver terminated early (max_iter=5000).  Consider pre-processing your data with StandardScaler or MinMaxScaler.\n",
            "  % self.max_iter, ConvergenceWarning)\n",
            "/usr/local/lib/python3.6/dist-packages/sklearn/svm/_base.py:231: ConvergenceWarning: Solver terminated early (max_iter=5000).  Consider pre-processing your data with StandardScaler or MinMaxScaler.\n",
            "  % self.max_iter, ConvergenceWarning)\n",
            "/usr/local/lib/python3.6/dist-packages/sklearn/svm/_base.py:231: ConvergenceWarning: Solver terminated early (max_iter=5000).  Consider pre-processing your data with StandardScaler or MinMaxScaler.\n",
            "  % self.max_iter, ConvergenceWarning)\n",
            "/usr/local/lib/python3.6/dist-packages/sklearn/svm/_base.py:231: ConvergenceWarning: Solver terminated early (max_iter=5000).  Consider pre-processing your data with StandardScaler or MinMaxScaler.\n",
            "  % self.max_iter, ConvergenceWarning)\n"
          ],
          "name": "stderr"
        },
        {
          "output_type": "stream",
          "text": [
            "The best parameters are {'C': 0.1, 'gamma': 0.1, 'max_iter': 5000} with a score of 0.50\n"
          ],
          "name": "stdout"
        }
      ]
    },
    {
      "cell_type": "code",
      "metadata": {
        "id": "IgvxR1HaqFDs",
        "colab_type": "code",
        "colab": {
          "base_uri": "https://localhost:8080/",
          "height": 419
        },
        "outputId": "a60ba7f5-0b34-4edb-f506-fa036598b5eb"
      },
      "source": [
        "df_all.loc[:, ['alcohol', 'density', 'citric_acid']]"
      ],
      "execution_count": 50,
      "outputs": [
        {
          "output_type": "execute_result",
          "data": {
            "text/html": [
              "<div>\n",
              "<style scoped>\n",
              "    .dataframe tbody tr th:only-of-type {\n",
              "        vertical-align: middle;\n",
              "    }\n",
              "\n",
              "    .dataframe tbody tr th {\n",
              "        vertical-align: top;\n",
              "    }\n",
              "\n",
              "    .dataframe thead th {\n",
              "        text-align: right;\n",
              "    }\n",
              "</style>\n",
              "<table border=\"1\" class=\"dataframe\">\n",
              "  <thead>\n",
              "    <tr style=\"text-align: right;\">\n",
              "      <th></th>\n",
              "      <th>alcohol</th>\n",
              "      <th>density</th>\n",
              "      <th>citric_acid</th>\n",
              "    </tr>\n",
              "  </thead>\n",
              "  <tbody>\n",
              "    <tr>\n",
              "      <th>0</th>\n",
              "      <td>9.4</td>\n",
              "      <td>0.99780</td>\n",
              "      <td>0.00</td>\n",
              "    </tr>\n",
              "    <tr>\n",
              "      <th>1</th>\n",
              "      <td>9.8</td>\n",
              "      <td>0.99680</td>\n",
              "      <td>0.00</td>\n",
              "    </tr>\n",
              "    <tr>\n",
              "      <th>2</th>\n",
              "      <td>9.8</td>\n",
              "      <td>0.99700</td>\n",
              "      <td>0.04</td>\n",
              "    </tr>\n",
              "    <tr>\n",
              "      <th>3</th>\n",
              "      <td>9.8</td>\n",
              "      <td>0.99800</td>\n",
              "      <td>0.56</td>\n",
              "    </tr>\n",
              "    <tr>\n",
              "      <th>4</th>\n",
              "      <td>9.4</td>\n",
              "      <td>0.99780</td>\n",
              "      <td>0.00</td>\n",
              "    </tr>\n",
              "    <tr>\n",
              "      <th>...</th>\n",
              "      <td>...</td>\n",
              "      <td>...</td>\n",
              "      <td>...</td>\n",
              "    </tr>\n",
              "    <tr>\n",
              "      <th>4893</th>\n",
              "      <td>11.2</td>\n",
              "      <td>0.99114</td>\n",
              "      <td>0.29</td>\n",
              "    </tr>\n",
              "    <tr>\n",
              "      <th>4894</th>\n",
              "      <td>9.6</td>\n",
              "      <td>0.99490</td>\n",
              "      <td>0.36</td>\n",
              "    </tr>\n",
              "    <tr>\n",
              "      <th>4895</th>\n",
              "      <td>9.4</td>\n",
              "      <td>0.99254</td>\n",
              "      <td>0.19</td>\n",
              "    </tr>\n",
              "    <tr>\n",
              "      <th>4896</th>\n",
              "      <td>12.8</td>\n",
              "      <td>0.98869</td>\n",
              "      <td>0.30</td>\n",
              "    </tr>\n",
              "    <tr>\n",
              "      <th>4897</th>\n",
              "      <td>11.8</td>\n",
              "      <td>0.98941</td>\n",
              "      <td>0.38</td>\n",
              "    </tr>\n",
              "  </tbody>\n",
              "</table>\n",
              "<p>6497 rows × 3 columns</p>\n",
              "</div>"
            ],
            "text/plain": [
              "      alcohol  density  citric_acid\n",
              "0         9.4  0.99780         0.00\n",
              "1         9.8  0.99680         0.00\n",
              "2         9.8  0.99700         0.04\n",
              "3         9.8  0.99800         0.56\n",
              "4         9.4  0.99780         0.00\n",
              "...       ...      ...          ...\n",
              "4893     11.2  0.99114         0.29\n",
              "4894      9.6  0.99490         0.36\n",
              "4895      9.4  0.99254         0.19\n",
              "4896     12.8  0.98869         0.30\n",
              "4897     11.8  0.98941         0.38\n",
              "\n",
              "[6497 rows x 3 columns]"
            ]
          },
          "metadata": {
            "tags": []
          },
          "execution_count": 50
        }
      ]
    },
    {
      "cell_type": "code",
      "metadata": {
        "id": "8iAMI3ylqNWd",
        "colab_type": "code",
        "colab": {
          "base_uri": "https://localhost:8080/",
          "height": 34
        },
        "outputId": "cda96566-ad98-457d-b6f9-1b0e64af2648"
      },
      "source": [
        "data_path_red = './winequality-red.csv'\n",
        "data_path_white = './winequality-white.csv'\n",
        "\n",
        "\n",
        "df_red, df_white, df_all = load_data(data_path_red, data_path_white)\n",
        "\n",
        "X, y = get_features_and_labels(df_all)\n",
        "\n",
        "d_t = df_all.loc[:, ['alcohol', 'density', 'citric_acid']]\n",
        "\n",
        "X = d_t.to_numpy() #  X.to_numpy()\n",
        "y = y.to_numpy()\n",
        "\n",
        "scaler = StandardScaler()  # Normalizer()\n",
        "X = scaler.fit_transform(X)\n",
        "\n",
        "#y = np.where(y > 5, 1, 0)\n",
        "\n",
        "#C_range = np.logspace(-2, 10, 13)\n",
        "#gamma_range = np.logspace(-9, 3, 13)\n",
        "param_grid = dict(gamma=[10, 1, 0.1, 0.001], C=[1, 0.1, 0.001], max_iter =[100000])\n",
        "\n",
        "\n",
        "grid = GridSearchCV(SVC(), param_grid=param_grid)\n",
        "grid.fit(X[:, :2], y)\n",
        "\n",
        "print(\"The best parameters are %s with a score of %0.2f\"\n",
        "      % (grid.best_params_, grid.best_score_))"
      ],
      "execution_count": 58,
      "outputs": [
        {
          "output_type": "stream",
          "text": [
            "The best parameters are {'C': 0.1, 'gamma': 0.1, 'max_iter': 100000} with a score of 0.50\n"
          ],
          "name": "stdout"
        }
      ]
    },
    {
      "cell_type": "code",
      "metadata": {
        "id": "3VnCd5Mnulxt",
        "colab_type": "code",
        "colab": {
          "base_uri": "https://localhost:8080/",
          "height": 734
        },
        "outputId": "5e18920f-4606-4c9f-eeed-7363efa89298"
      },
      "source": [
        "data_path_red = './winequality-red.csv'\n",
        "data_path_white = './winequality-white.csv'\n",
        "\n",
        "\n",
        "df_red, df_white, df_all = load_data(data_path_red, data_path_white)\n",
        "\n",
        "X, y = get_features_and_labels(df_all)\n",
        "\n",
        "#d_t = df_all.loc[:, ['alcohol', 'density', 'citric_acid']]\n",
        "\n",
        "X = X.to_numpy()\n",
        "y = y.to_numpy()\n",
        "\n",
        "scaler = StandardScaler()  # Normalizer()\n",
        "X = scaler.fit_transform(X)\n",
        "\n",
        "y = np.where(y > 5, 1, 0)\n",
        "\n",
        "#C_range = np.logspace(-2, 10, 13)\n",
        "#gamma_range = np.logspace(-9, 3, 13)\n",
        "param_grid = dict(gamma=[10, 1, 0.1, 0.001], C=[1, 0.1, 0.001], max_iter =[5000])\n",
        "\n",
        "\n",
        "grid = GridSearchCV(SVC(), param_grid=param_grid)\n",
        "grid.fit(X[:, :2], y)\n",
        "\n",
        "print(\"The best parameters are %s with a score of %0.2f\"\n",
        "      % (grid.best_params_, grid.best_score_))"
      ],
      "execution_count": 60,
      "outputs": [
        {
          "output_type": "stream",
          "text": [
            "/usr/local/lib/python3.6/dist-packages/sklearn/svm/_base.py:231: ConvergenceWarning: Solver terminated early (max_iter=5000).  Consider pre-processing your data with StandardScaler or MinMaxScaler.\n",
            "  % self.max_iter, ConvergenceWarning)\n",
            "/usr/local/lib/python3.6/dist-packages/sklearn/svm/_base.py:231: ConvergenceWarning: Solver terminated early (max_iter=5000).  Consider pre-processing your data with StandardScaler or MinMaxScaler.\n",
            "  % self.max_iter, ConvergenceWarning)\n",
            "/usr/local/lib/python3.6/dist-packages/sklearn/svm/_base.py:231: ConvergenceWarning: Solver terminated early (max_iter=5000).  Consider pre-processing your data with StandardScaler or MinMaxScaler.\n",
            "  % self.max_iter, ConvergenceWarning)\n",
            "/usr/local/lib/python3.6/dist-packages/sklearn/svm/_base.py:231: ConvergenceWarning: Solver terminated early (max_iter=5000).  Consider pre-processing your data with StandardScaler or MinMaxScaler.\n",
            "  % self.max_iter, ConvergenceWarning)\n",
            "/usr/local/lib/python3.6/dist-packages/sklearn/svm/_base.py:231: ConvergenceWarning: Solver terminated early (max_iter=5000).  Consider pre-processing your data with StandardScaler or MinMaxScaler.\n",
            "  % self.max_iter, ConvergenceWarning)\n",
            "/usr/local/lib/python3.6/dist-packages/sklearn/svm/_base.py:231: ConvergenceWarning: Solver terminated early (max_iter=5000).  Consider pre-processing your data with StandardScaler or MinMaxScaler.\n",
            "  % self.max_iter, ConvergenceWarning)\n",
            "/usr/local/lib/python3.6/dist-packages/sklearn/svm/_base.py:231: ConvergenceWarning: Solver terminated early (max_iter=5000).  Consider pre-processing your data with StandardScaler or MinMaxScaler.\n",
            "  % self.max_iter, ConvergenceWarning)\n",
            "/usr/local/lib/python3.6/dist-packages/sklearn/svm/_base.py:231: ConvergenceWarning: Solver terminated early (max_iter=5000).  Consider pre-processing your data with StandardScaler or MinMaxScaler.\n",
            "  % self.max_iter, ConvergenceWarning)\n",
            "/usr/local/lib/python3.6/dist-packages/sklearn/svm/_base.py:231: ConvergenceWarning: Solver terminated early (max_iter=5000).  Consider pre-processing your data with StandardScaler or MinMaxScaler.\n",
            "  % self.max_iter, ConvergenceWarning)\n",
            "/usr/local/lib/python3.6/dist-packages/sklearn/svm/_base.py:231: ConvergenceWarning: Solver terminated early (max_iter=5000).  Consider pre-processing your data with StandardScaler or MinMaxScaler.\n",
            "  % self.max_iter, ConvergenceWarning)\n",
            "/usr/local/lib/python3.6/dist-packages/sklearn/svm/_base.py:231: ConvergenceWarning: Solver terminated early (max_iter=5000).  Consider pre-processing your data with StandardScaler or MinMaxScaler.\n",
            "  % self.max_iter, ConvergenceWarning)\n",
            "/usr/local/lib/python3.6/dist-packages/sklearn/svm/_base.py:231: ConvergenceWarning: Solver terminated early (max_iter=5000).  Consider pre-processing your data with StandardScaler or MinMaxScaler.\n",
            "  % self.max_iter, ConvergenceWarning)\n",
            "/usr/local/lib/python3.6/dist-packages/sklearn/svm/_base.py:231: ConvergenceWarning: Solver terminated early (max_iter=5000).  Consider pre-processing your data with StandardScaler or MinMaxScaler.\n",
            "  % self.max_iter, ConvergenceWarning)\n",
            "/usr/local/lib/python3.6/dist-packages/sklearn/svm/_base.py:231: ConvergenceWarning: Solver terminated early (max_iter=5000).  Consider pre-processing your data with StandardScaler or MinMaxScaler.\n",
            "  % self.max_iter, ConvergenceWarning)\n",
            "/usr/local/lib/python3.6/dist-packages/sklearn/svm/_base.py:231: ConvergenceWarning: Solver terminated early (max_iter=5000).  Consider pre-processing your data with StandardScaler or MinMaxScaler.\n",
            "  % self.max_iter, ConvergenceWarning)\n",
            "/usr/local/lib/python3.6/dist-packages/sklearn/svm/_base.py:231: ConvergenceWarning: Solver terminated early (max_iter=5000).  Consider pre-processing your data with StandardScaler or MinMaxScaler.\n",
            "  % self.max_iter, ConvergenceWarning)\n",
            "/usr/local/lib/python3.6/dist-packages/sklearn/svm/_base.py:231: ConvergenceWarning: Solver terminated early (max_iter=5000).  Consider pre-processing your data with StandardScaler or MinMaxScaler.\n",
            "  % self.max_iter, ConvergenceWarning)\n",
            "/usr/local/lib/python3.6/dist-packages/sklearn/svm/_base.py:231: ConvergenceWarning: Solver terminated early (max_iter=5000).  Consider pre-processing your data with StandardScaler or MinMaxScaler.\n",
            "  % self.max_iter, ConvergenceWarning)\n",
            "/usr/local/lib/python3.6/dist-packages/sklearn/svm/_base.py:231: ConvergenceWarning: Solver terminated early (max_iter=5000).  Consider pre-processing your data with StandardScaler or MinMaxScaler.\n",
            "  % self.max_iter, ConvergenceWarning)\n",
            "/usr/local/lib/python3.6/dist-packages/sklearn/svm/_base.py:231: ConvergenceWarning: Solver terminated early (max_iter=5000).  Consider pre-processing your data with StandardScaler or MinMaxScaler.\n",
            "  % self.max_iter, ConvergenceWarning)\n"
          ],
          "name": "stderr"
        },
        {
          "output_type": "stream",
          "text": [
            "The best parameters are {'C': 0.1, 'gamma': 0.001, 'max_iter': 5000} with a score of 0.63\n"
          ],
          "name": "stdout"
        }
      ]
    },
    {
      "cell_type": "code",
      "metadata": {
        "id": "-UgF5GL9vBL5",
        "colab_type": "code",
        "colab": {
          "base_uri": "https://localhost:8080/",
          "height": 34
        },
        "outputId": "b9e21c60-ede9-4dbc-ea15-368f73ed05ed"
      },
      "source": [
        "data_path_red = './winequality-red.csv'\n",
        "data_path_white = './winequality-white.csv'\n",
        "\n",
        "\n",
        "df_red, df_white, df_all = load_data(data_path_red, data_path_white)\n",
        "\n",
        "X, y = get_features_and_labels(df_all)\n",
        "\n",
        "#d_t = df_all.loc[:, ['alcohol', 'density', 'citric_acid']]\n",
        "\n",
        "X = X.to_numpy()\n",
        "y = y.to_numpy()\n",
        "\n",
        "scaler = StandardScaler()  # Normalizer()\n",
        "X = scaler.fit_transform(X)\n",
        "\n",
        "y = np.where(y > 5, 1, 0)\n",
        "\n",
        "#C_range = np.logspace(-2, 10, 13)\n",
        "#gamma_range = np.logspace(-9, 3, 13)\n",
        "param_grid = dict(gamma=[10, 1, 0.1, 0.001], C=[1, 0.1, 0.001], max_iter =[100000])\n",
        "\n",
        "\n",
        "grid = GridSearchCV(SVC(), param_grid=param_grid)\n",
        "grid.fit(X[:, :2], y)\n",
        "\n",
        "print(\"The best parameters are %s with a score of %0.2f\"\n",
        "      % (grid.best_params_, grid.best_score_))"
      ],
      "execution_count": 61,
      "outputs": [
        {
          "output_type": "stream",
          "text": [
            "The best parameters are {'C': 0.1, 'gamma': 0.001, 'max_iter': 100000} with a score of 0.63\n"
          ],
          "name": "stdout"
        }
      ]
    },
    {
      "cell_type": "code",
      "metadata": {
        "id": "mu6eua624Tnm",
        "colab_type": "code",
        "colab": {
          "base_uri": "https://localhost:8080/",
          "height": 1000
        },
        "outputId": "f9c28a4d-1f1f-4d57-f86f-b52a6fd91539"
      },
      "source": [
        "from sklearn.svm import SVC\n",
        "from sklearn.preprocessing import StandardScaler\n",
        "from sklearn.pipeline import Pipeline\n",
        "from sklearn.model_selection import train_test_split\n",
        "\n",
        "## data\n",
        "data_path_red = './winequality-red.csv'\n",
        "data_path_white = './winequality-white.csv'\n",
        "\n",
        "\n",
        "df_red, df_white, df_all = load_data(data_path_red, data_path_white)\n",
        "\n",
        "X, y = get_features_and_labels(df_all)\n",
        "\n",
        "#d_t = df_all.loc[:, ['alcohol', 'density', 'citric_acid']]\n",
        "\n",
        "X = X.to_numpy()\n",
        "y = y.to_numpy()\n",
        "y = np.where(y > 5, 1, 0)\n",
        "#-----\n",
        "\n",
        "\n",
        "steps = [('scaler', StandardScaler()), ('SVM', SVC())]\n",
        "pipeline = Pipeline(steps) # define the pipeline object.\n",
        "\n",
        "X_train, X_test, y_train, y_test = train_test_split(X,y,test_size=0.2, random_state=30, stratify=y)\n",
        "\n",
        "parameteres = {'SVM__C':[0.001,0.1,10,100,10e5],\n",
        "               'SVM__gamma':[0.1,0.01],\n",
        "               'SVM__max_iter':[100000]}\n",
        "\n",
        "grid = GridSearchCV(pipeline, param_grid=parameteres, cv=5, verbose = 10)\n",
        "\n",
        "\n",
        "grid.fit(X_train, y_train)\n",
        "print(\"score = %3.2f\" %(grid.score(X_test,y_test)))\n",
        "print(grid.best_params_)"
      ],
      "execution_count": 67,
      "outputs": [
        {
          "output_type": "stream",
          "text": [
            "Fitting 5 folds for each of 10 candidates, totalling 50 fits\n",
            "[CV] SVM__C=0.001, SVM__gamma=0.1, SVM__max_iter=100000 ..............\n"
          ],
          "name": "stdout"
        },
        {
          "output_type": "stream",
          "text": [
            "[Parallel(n_jobs=1)]: Using backend SequentialBackend with 1 concurrent workers.\n"
          ],
          "name": "stderr"
        },
        {
          "output_type": "stream",
          "text": [
            "[CV]  SVM__C=0.001, SVM__gamma=0.1, SVM__max_iter=100000, score=0.633, total=   0.9s\n",
            "[CV] SVM__C=0.001, SVM__gamma=0.1, SVM__max_iter=100000 ..............\n"
          ],
          "name": "stdout"
        },
        {
          "output_type": "stream",
          "text": [
            "[Parallel(n_jobs=1)]: Done   1 out of   1 | elapsed:    0.9s remaining:    0.0s\n"
          ],
          "name": "stderr"
        },
        {
          "output_type": "stream",
          "text": [
            "[CV]  SVM__C=0.001, SVM__gamma=0.1, SVM__max_iter=100000, score=0.633, total=   0.8s\n",
            "[CV] SVM__C=0.001, SVM__gamma=0.1, SVM__max_iter=100000 ..............\n"
          ],
          "name": "stdout"
        },
        {
          "output_type": "stream",
          "text": [
            "[Parallel(n_jobs=1)]: Done   2 out of   2 | elapsed:    1.7s remaining:    0.0s\n"
          ],
          "name": "stderr"
        },
        {
          "output_type": "stream",
          "text": [
            "[CV]  SVM__C=0.001, SVM__gamma=0.1, SVM__max_iter=100000, score=0.633, total=   0.8s\n",
            "[CV] SVM__C=0.001, SVM__gamma=0.1, SVM__max_iter=100000 ..............\n"
          ],
          "name": "stdout"
        },
        {
          "output_type": "stream",
          "text": [
            "[Parallel(n_jobs=1)]: Done   3 out of   3 | elapsed:    2.5s remaining:    0.0s\n"
          ],
          "name": "stderr"
        },
        {
          "output_type": "stream",
          "text": [
            "[CV]  SVM__C=0.001, SVM__gamma=0.1, SVM__max_iter=100000, score=0.633, total=   0.8s\n",
            "[CV] SVM__C=0.001, SVM__gamma=0.1, SVM__max_iter=100000 ..............\n"
          ],
          "name": "stdout"
        },
        {
          "output_type": "stream",
          "text": [
            "[Parallel(n_jobs=1)]: Done   4 out of   4 | elapsed:    3.4s remaining:    0.0s\n"
          ],
          "name": "stderr"
        },
        {
          "output_type": "stream",
          "text": [
            "[CV]  SVM__C=0.001, SVM__gamma=0.1, SVM__max_iter=100000, score=0.633, total=   0.8s\n",
            "[CV] SVM__C=0.001, SVM__gamma=0.01, SVM__max_iter=100000 .............\n"
          ],
          "name": "stdout"
        },
        {
          "output_type": "stream",
          "text": [
            "[Parallel(n_jobs=1)]: Done   5 out of   5 | elapsed:    4.2s remaining:    0.0s\n"
          ],
          "name": "stderr"
        },
        {
          "output_type": "stream",
          "text": [
            "[CV]  SVM__C=0.001, SVM__gamma=0.01, SVM__max_iter=100000, score=0.633, total=   0.8s\n",
            "[CV] SVM__C=0.001, SVM__gamma=0.01, SVM__max_iter=100000 .............\n"
          ],
          "name": "stdout"
        },
        {
          "output_type": "stream",
          "text": [
            "[Parallel(n_jobs=1)]: Done   6 out of   6 | elapsed:    5.0s remaining:    0.0s\n"
          ],
          "name": "stderr"
        },
        {
          "output_type": "stream",
          "text": [
            "[CV]  SVM__C=0.001, SVM__gamma=0.01, SVM__max_iter=100000, score=0.633, total=   0.8s\n",
            "[CV] SVM__C=0.001, SVM__gamma=0.01, SVM__max_iter=100000 .............\n"
          ],
          "name": "stdout"
        },
        {
          "output_type": "stream",
          "text": [
            "[Parallel(n_jobs=1)]: Done   7 out of   7 | elapsed:    5.9s remaining:    0.0s\n"
          ],
          "name": "stderr"
        },
        {
          "output_type": "stream",
          "text": [
            "[CV]  SVM__C=0.001, SVM__gamma=0.01, SVM__max_iter=100000, score=0.633, total=   0.8s\n",
            "[CV] SVM__C=0.001, SVM__gamma=0.01, SVM__max_iter=100000 .............\n"
          ],
          "name": "stdout"
        },
        {
          "output_type": "stream",
          "text": [
            "[Parallel(n_jobs=1)]: Done   8 out of   8 | elapsed:    6.7s remaining:    0.0s\n"
          ],
          "name": "stderr"
        },
        {
          "output_type": "stream",
          "text": [
            "[CV]  SVM__C=0.001, SVM__gamma=0.01, SVM__max_iter=100000, score=0.633, total=   0.8s\n",
            "[CV] SVM__C=0.001, SVM__gamma=0.01, SVM__max_iter=100000 .............\n"
          ],
          "name": "stdout"
        },
        {
          "output_type": "stream",
          "text": [
            "[Parallel(n_jobs=1)]: Done   9 out of   9 | elapsed:    7.5s remaining:    0.0s\n"
          ],
          "name": "stderr"
        },
        {
          "output_type": "stream",
          "text": [
            "[CV]  SVM__C=0.001, SVM__gamma=0.01, SVM__max_iter=100000, score=0.633, total=   0.8s\n",
            "[CV] SVM__C=0.1, SVM__gamma=0.1, SVM__max_iter=100000 ................\n",
            "[CV]  SVM__C=0.1, SVM__gamma=0.1, SVM__max_iter=100000, score=0.740, total=   0.8s\n",
            "[CV] SVM__C=0.1, SVM__gamma=0.1, SVM__max_iter=100000 ................\n",
            "[CV]  SVM__C=0.1, SVM__gamma=0.1, SVM__max_iter=100000, score=0.782, total=   0.7s\n",
            "[CV] SVM__C=0.1, SVM__gamma=0.1, SVM__max_iter=100000 ................\n",
            "[CV]  SVM__C=0.1, SVM__gamma=0.1, SVM__max_iter=100000, score=0.746, total=   0.7s\n",
            "[CV] SVM__C=0.1, SVM__gamma=0.1, SVM__max_iter=100000 ................\n",
            "[CV]  SVM__C=0.1, SVM__gamma=0.1, SVM__max_iter=100000, score=0.763, total=   0.7s\n",
            "[CV] SVM__C=0.1, SVM__gamma=0.1, SVM__max_iter=100000 ................\n",
            "[CV]  SVM__C=0.1, SVM__gamma=0.1, SVM__max_iter=100000, score=0.754, total=   0.7s\n",
            "[CV] SVM__C=0.1, SVM__gamma=0.01, SVM__max_iter=100000 ...............\n",
            "[CV]  SVM__C=0.1, SVM__gamma=0.01, SVM__max_iter=100000, score=0.716, total=   0.8s\n",
            "[CV] SVM__C=0.1, SVM__gamma=0.01, SVM__max_iter=100000 ...............\n",
            "[CV]  SVM__C=0.1, SVM__gamma=0.01, SVM__max_iter=100000, score=0.721, total=   0.8s\n",
            "[CV] SVM__C=0.1, SVM__gamma=0.01, SVM__max_iter=100000 ...............\n",
            "[CV]  SVM__C=0.1, SVM__gamma=0.01, SVM__max_iter=100000, score=0.723, total=   0.8s\n",
            "[CV] SVM__C=0.1, SVM__gamma=0.01, SVM__max_iter=100000 ...............\n",
            "[CV]  SVM__C=0.1, SVM__gamma=0.01, SVM__max_iter=100000, score=0.739, total=   0.8s\n",
            "[CV] SVM__C=0.1, SVM__gamma=0.01, SVM__max_iter=100000 ...............\n",
            "[CV]  SVM__C=0.1, SVM__gamma=0.01, SVM__max_iter=100000, score=0.711, total=   0.8s\n",
            "[CV] SVM__C=10, SVM__gamma=0.1, SVM__max_iter=100000 .................\n",
            "[CV]  SVM__C=10, SVM__gamma=0.1, SVM__max_iter=100000, score=0.769, total=   0.9s\n",
            "[CV] SVM__C=10, SVM__gamma=0.1, SVM__max_iter=100000 .................\n",
            "[CV]  SVM__C=10, SVM__gamma=0.1, SVM__max_iter=100000, score=0.796, total=   0.9s\n",
            "[CV] SVM__C=10, SVM__gamma=0.1, SVM__max_iter=100000 .................\n",
            "[CV]  SVM__C=10, SVM__gamma=0.1, SVM__max_iter=100000, score=0.772, total=   0.9s\n",
            "[CV] SVM__C=10, SVM__gamma=0.1, SVM__max_iter=100000 .................\n",
            "[CV]  SVM__C=10, SVM__gamma=0.1, SVM__max_iter=100000, score=0.787, total=   0.9s\n",
            "[CV] SVM__C=10, SVM__gamma=0.1, SVM__max_iter=100000 .................\n",
            "[CV]  SVM__C=10, SVM__gamma=0.1, SVM__max_iter=100000, score=0.774, total=   0.9s\n",
            "[CV] SVM__C=10, SVM__gamma=0.01, SVM__max_iter=100000 ................\n",
            "[CV]  SVM__C=10, SVM__gamma=0.01, SVM__max_iter=100000, score=0.753, total=   0.7s\n",
            "[CV] SVM__C=10, SVM__gamma=0.01, SVM__max_iter=100000 ................\n",
            "[CV]  SVM__C=10, SVM__gamma=0.01, SVM__max_iter=100000, score=0.776, total=   0.7s\n",
            "[CV] SVM__C=10, SVM__gamma=0.01, SVM__max_iter=100000 ................\n",
            "[CV]  SVM__C=10, SVM__gamma=0.01, SVM__max_iter=100000, score=0.744, total=   0.7s\n",
            "[CV] SVM__C=10, SVM__gamma=0.01, SVM__max_iter=100000 ................\n",
            "[CV]  SVM__C=10, SVM__gamma=0.01, SVM__max_iter=100000, score=0.772, total=   0.7s\n",
            "[CV] SVM__C=10, SVM__gamma=0.01, SVM__max_iter=100000 ................\n",
            "[CV]  SVM__C=10, SVM__gamma=0.01, SVM__max_iter=100000, score=0.762, total=   0.7s\n",
            "[CV] SVM__C=100, SVM__gamma=0.1, SVM__max_iter=100000 ................\n",
            "[CV]  SVM__C=100, SVM__gamma=0.1, SVM__max_iter=100000, score=0.775, total=   2.1s\n",
            "[CV] SVM__C=100, SVM__gamma=0.1, SVM__max_iter=100000 ................\n",
            "[CV]  SVM__C=100, SVM__gamma=0.1, SVM__max_iter=100000, score=0.770, total=   2.0s\n",
            "[CV] SVM__C=100, SVM__gamma=0.1, SVM__max_iter=100000 ................\n",
            "[CV]  SVM__C=100, SVM__gamma=0.1, SVM__max_iter=100000, score=0.760, total=   2.1s\n",
            "[CV] SVM__C=100, SVM__gamma=0.1, SVM__max_iter=100000 ................\n",
            "[CV]  SVM__C=100, SVM__gamma=0.1, SVM__max_iter=100000, score=0.782, total=   2.0s\n",
            "[CV] SVM__C=100, SVM__gamma=0.1, SVM__max_iter=100000 ................\n",
            "[CV]  SVM__C=100, SVM__gamma=0.1, SVM__max_iter=100000, score=0.763, total=   2.0s\n",
            "[CV] SVM__C=100, SVM__gamma=0.01, SVM__max_iter=100000 ...............\n",
            "[CV]  SVM__C=100, SVM__gamma=0.01, SVM__max_iter=100000, score=0.749, total=   1.1s\n",
            "[CV] SVM__C=100, SVM__gamma=0.01, SVM__max_iter=100000 ...............\n",
            "[CV]  SVM__C=100, SVM__gamma=0.01, SVM__max_iter=100000, score=0.783, total=   1.1s\n",
            "[CV] SVM__C=100, SVM__gamma=0.01, SVM__max_iter=100000 ...............\n",
            "[CV]  SVM__C=100, SVM__gamma=0.01, SVM__max_iter=100000, score=0.750, total=   1.1s\n",
            "[CV] SVM__C=100, SVM__gamma=0.01, SVM__max_iter=100000 ...............\n",
            "[CV]  SVM__C=100, SVM__gamma=0.01, SVM__max_iter=100000, score=0.775, total=   1.1s\n",
            "[CV] SVM__C=100, SVM__gamma=0.01, SVM__max_iter=100000 ...............\n",
            "[CV]  SVM__C=100, SVM__gamma=0.01, SVM__max_iter=100000, score=0.771, total=   1.1s\n",
            "[CV] SVM__C=1000000.0, SVM__gamma=0.1, SVM__max_iter=100000 ..........\n"
          ],
          "name": "stdout"
        },
        {
          "output_type": "stream",
          "text": [
            "/usr/local/lib/python3.6/dist-packages/sklearn/svm/_base.py:231: ConvergenceWarning: Solver terminated early (max_iter=100000).  Consider pre-processing your data with StandardScaler or MinMaxScaler.\n",
            "  % self.max_iter, ConvergenceWarning)\n"
          ],
          "name": "stderr"
        },
        {
          "output_type": "stream",
          "text": [
            "[CV]  SVM__C=1000000.0, SVM__gamma=0.1, SVM__max_iter=100000, score=0.770, total=   3.6s\n",
            "[CV] SVM__C=1000000.0, SVM__gamma=0.1, SVM__max_iter=100000 ..........\n"
          ],
          "name": "stdout"
        },
        {
          "output_type": "stream",
          "text": [
            "/usr/local/lib/python3.6/dist-packages/sklearn/svm/_base.py:231: ConvergenceWarning: Solver terminated early (max_iter=100000).  Consider pre-processing your data with StandardScaler or MinMaxScaler.\n",
            "  % self.max_iter, ConvergenceWarning)\n"
          ],
          "name": "stderr"
        },
        {
          "output_type": "stream",
          "text": [
            "[CV]  SVM__C=1000000.0, SVM__gamma=0.1, SVM__max_iter=100000, score=0.754, total=   3.6s\n",
            "[CV] SVM__C=1000000.0, SVM__gamma=0.1, SVM__max_iter=100000 ..........\n"
          ],
          "name": "stdout"
        },
        {
          "output_type": "stream",
          "text": [
            "/usr/local/lib/python3.6/dist-packages/sklearn/svm/_base.py:231: ConvergenceWarning: Solver terminated early (max_iter=100000).  Consider pre-processing your data with StandardScaler or MinMaxScaler.\n",
            "  % self.max_iter, ConvergenceWarning)\n"
          ],
          "name": "stderr"
        },
        {
          "output_type": "stream",
          "text": [
            "[CV]  SVM__C=1000000.0, SVM__gamma=0.1, SVM__max_iter=100000, score=0.722, total=   3.6s\n",
            "[CV] SVM__C=1000000.0, SVM__gamma=0.1, SVM__max_iter=100000 ..........\n"
          ],
          "name": "stdout"
        },
        {
          "output_type": "stream",
          "text": [
            "/usr/local/lib/python3.6/dist-packages/sklearn/svm/_base.py:231: ConvergenceWarning: Solver terminated early (max_iter=100000).  Consider pre-processing your data with StandardScaler or MinMaxScaler.\n",
            "  % self.max_iter, ConvergenceWarning)\n"
          ],
          "name": "stderr"
        },
        {
          "output_type": "stream",
          "text": [
            "[CV]  SVM__C=1000000.0, SVM__gamma=0.1, SVM__max_iter=100000, score=0.760, total=   3.6s\n",
            "[CV] SVM__C=1000000.0, SVM__gamma=0.1, SVM__max_iter=100000 ..........\n"
          ],
          "name": "stdout"
        },
        {
          "output_type": "stream",
          "text": [
            "/usr/local/lib/python3.6/dist-packages/sklearn/svm/_base.py:231: ConvergenceWarning: Solver terminated early (max_iter=100000).  Consider pre-processing your data with StandardScaler or MinMaxScaler.\n",
            "  % self.max_iter, ConvergenceWarning)\n"
          ],
          "name": "stderr"
        },
        {
          "output_type": "stream",
          "text": [
            "[CV]  SVM__C=1000000.0, SVM__gamma=0.1, SVM__max_iter=100000, score=0.744, total=   3.7s\n",
            "[CV] SVM__C=1000000.0, SVM__gamma=0.01, SVM__max_iter=100000 .........\n"
          ],
          "name": "stdout"
        },
        {
          "output_type": "stream",
          "text": [
            "/usr/local/lib/python3.6/dist-packages/sklearn/svm/_base.py:231: ConvergenceWarning: Solver terminated early (max_iter=100000).  Consider pre-processing your data with StandardScaler or MinMaxScaler.\n",
            "  % self.max_iter, ConvergenceWarning)\n"
          ],
          "name": "stderr"
        },
        {
          "output_type": "stream",
          "text": [
            "[CV]  SVM__C=1000000.0, SVM__gamma=0.01, SVM__max_iter=100000, score=0.647, total=   4.7s\n",
            "[CV] SVM__C=1000000.0, SVM__gamma=0.01, SVM__max_iter=100000 .........\n"
          ],
          "name": "stdout"
        },
        {
          "output_type": "stream",
          "text": [
            "/usr/local/lib/python3.6/dist-packages/sklearn/svm/_base.py:231: ConvergenceWarning: Solver terminated early (max_iter=100000).  Consider pre-processing your data with StandardScaler or MinMaxScaler.\n",
            "  % self.max_iter, ConvergenceWarning)\n"
          ],
          "name": "stderr"
        },
        {
          "output_type": "stream",
          "text": [
            "[CV]  SVM__C=1000000.0, SVM__gamma=0.01, SVM__max_iter=100000, score=0.487, total=   4.6s\n",
            "[CV] SVM__C=1000000.0, SVM__gamma=0.01, SVM__max_iter=100000 .........\n"
          ],
          "name": "stdout"
        },
        {
          "output_type": "stream",
          "text": [
            "/usr/local/lib/python3.6/dist-packages/sklearn/svm/_base.py:231: ConvergenceWarning: Solver terminated early (max_iter=100000).  Consider pre-processing your data with StandardScaler or MinMaxScaler.\n",
            "  % self.max_iter, ConvergenceWarning)\n"
          ],
          "name": "stderr"
        },
        {
          "output_type": "stream",
          "text": [
            "[CV]  SVM__C=1000000.0, SVM__gamma=0.01, SVM__max_iter=100000, score=0.610, total=   4.7s\n",
            "[CV] SVM__C=1000000.0, SVM__gamma=0.01, SVM__max_iter=100000 .........\n"
          ],
          "name": "stdout"
        },
        {
          "output_type": "stream",
          "text": [
            "/usr/local/lib/python3.6/dist-packages/sklearn/svm/_base.py:231: ConvergenceWarning: Solver terminated early (max_iter=100000).  Consider pre-processing your data with StandardScaler or MinMaxScaler.\n",
            "  % self.max_iter, ConvergenceWarning)\n"
          ],
          "name": "stderr"
        },
        {
          "output_type": "stream",
          "text": [
            "[CV]  SVM__C=1000000.0, SVM__gamma=0.01, SVM__max_iter=100000, score=0.480, total=   4.6s\n",
            "[CV] SVM__C=1000000.0, SVM__gamma=0.01, SVM__max_iter=100000 .........\n"
          ],
          "name": "stdout"
        },
        {
          "output_type": "stream",
          "text": [
            "/usr/local/lib/python3.6/dist-packages/sklearn/svm/_base.py:231: ConvergenceWarning: Solver terminated early (max_iter=100000).  Consider pre-processing your data with StandardScaler or MinMaxScaler.\n",
            "  % self.max_iter, ConvergenceWarning)\n",
            "[Parallel(n_jobs=1)]: Done  50 out of  50 | elapsed:  1.4min finished\n"
          ],
          "name": "stderr"
        },
        {
          "output_type": "stream",
          "text": [
            "[CV]  SVM__C=1000000.0, SVM__gamma=0.01, SVM__max_iter=100000, score=0.485, total=   4.6s\n",
            "score = 0.78\n",
            "{'SVM__C': 10, 'SVM__gamma': 0.1, 'SVM__max_iter': 100000}\n"
          ],
          "name": "stdout"
        }
      ]
    }
  ]
}