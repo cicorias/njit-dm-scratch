{
 "cells": [
  {
   "cell_type": "markdown",
   "metadata": {},
   "source": [
    "# 1 - Introduction\n",
    "\n",
    "The goal, repeated here, is to be able to predict a \"good wine\" based upon its physical and chemical properties.\n",
    "\n",
    "# 2 - Methodology and Approach\n",
    "## 2.1 - Classification\n",
    "- binary vs multiclass problem\n",
    "## 2.2 - Support Vector Machine\n",
    "In using Support Vector Machines with a linear classified (which we will try first) the data must be linear separable. That means each of the feature to feature mappings must present the actual class that is clearly separated by a linear plane. While SVM with Radial Bias Function (RBF) can accomodate non-linear data we will look towards taking our Data and modifying it for easier analysis.\n",
    "## 2.3 - Decision Tree\n",
    "\n",
    "# 3 - Analysis and Modeling\n",
    "## 3.1 - Data EDA\n",
    "- Heat map / Correlation matrix via SNS - generate heatmap for each of the DF's - White, Red, All together\n",
    "- Spread of labels\n",
    "    - binary vs multiclass and the data\n",
    "    `np.unique(df.loc[:, 'quality'])   && plt.hist(df.loc[:, 'quality'])`\n",
    "- Spread of features\n",
    "- testing for linear separable data http://www.tarekatwan.com/index.php/2017/12/methods-for-testing-linear-separability-in-python/\n",
    "    - sns.pairwise plot\n",
    "## 3.2 - Data Properties and Wrangling\n",
    "- lots of ideas here: https://subscription.packtpub.com/book/data/9781789615326/10/ch10lvl1sec75/hyperparameter-tuning-with-grid-search\n",
    "\n",
    "## 3.3 - Model Generation\n",
    "- https://scikit-learn.org/stable/auto_examples/svm/plot_rbf_parameters.html\n",
    "\n",
    "\n",
    "# 4 - Results\n",
    "\n",
    "# 5 - Conclusions and Further Work\n",
    "\n",
    "\n",
    "\n",
    "## other things\n",
    "- catch and articulate early convergence issues: https://scikit-learn.org/stable/modules/generated/sklearn.exceptions.ConvergenceWarning.html\n",
    "\n",
    "\n",
    "generate SVM models for each of the DF's predicting quality - White, Red, All\n",
    "normalize / regularization of the data\n",
    "PCA or refinement\n",
    "\n",
    "https://scikit-learn.org/stable/modules/svm.html#multi-class-classification\n",
    "\n",
    "Generate the scores to: https://scikit-learn.org/stable/modules/svm.html#scores-probabilities\n",
    "\n",
    "Hyperparameter Tuning with Scikit https://subscription.packtpub.com/book/data/9781789615326/10/ch10lvl1sec75/hyperparameter-tuning-with-grid-search\n",
    "\n",
    "https://scikit-learn.org/stable/auto_examples/svm/plot_svm_nonlinear.html#sphx-glr-auto-examples-svm-plot-svm-nonlinear-py\n",
    "\n",
    "Try different kerne's\n",
    "https://scikit-learn.org/stable/auto_examples/svm/plot_iris_svc.html#sphx-glr-auto-examples-svm-plot-iris-svc-py"
   ]
  }
 ],
 "metadata": {
  "kernelspec": {
   "display_name": "Python 3",
   "language": "python",
   "name": "python3"
  },
  "language_info": {
   "codemirror_mode": {
    "name": "ipython",
    "version": 3
   },
   "file_extension": ".py",
   "mimetype": "text/x-python",
   "name": "python",
   "nbconvert_exporter": "python",
   "pygments_lexer": "ipython3",
   "version": "3.7.5"
  }
 },
 "nbformat": 4,
 "nbformat_minor": 4
}
