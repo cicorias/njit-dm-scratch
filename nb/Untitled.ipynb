{
 "cells": [
  {
   "cell_type": "markdown",
   "metadata": {},
   "source": [
    "```\n",
    "0. supportLevel == ? % (ie. 20%), confidence == ? % (20%)\n",
    "\n",
    "1. read in transactions\n",
    "\n",
    "k = 1  (number of items combined) \n",
    "2. do\n",
    "    - generate support levels for level k\n",
    "    - calculate support and confidence level for each \"item set\" \n",
    "    - eliminate \n",
    "\n",
    "```\n",
    "\n",
    "\n",
    "\n",
    "\n"
   ]
  },
  {
   "cell_type": "code",
   "execution_count": null,
   "metadata": {},
   "outputs": [],
   "source": []
  }
 ],
 "metadata": {
  "kernelspec": {
   "display_name": "Python 3",
   "language": "python",
   "name": "python3"
  },
  "language_info": {
   "codemirror_mode": {
    "name": "ipython",
    "version": 3
   },
   "file_extension": ".py",
   "mimetype": "text/x-python",
   "name": "python",
   "nbconvert_exporter": "python",
   "pygments_lexer": "ipython3",
   "version": "3.7.5"
  }
 },
 "nbformat": 4,
 "nbformat_minor": 4
}
