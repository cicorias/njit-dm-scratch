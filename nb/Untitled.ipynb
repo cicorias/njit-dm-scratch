{
 "cells": [
  {
   "cell_type": "markdown",
   "metadata": {},
   "source": [
    "```\n",
    "0. supportLevel == ? % (ie. 20%), confidence == ? % (20%)\n",
    "\n",
    "1. read in transactions\n",
    "\n",
    "k = 1  (number of items combined) \n",
    "2. do\n",
    "    - generate support levels for level k\n",
    "    - calculate support and confidence level for each \"item set\" \n",
    "    - eliminate \n",
    "\n",
    "```\n",
    "\n",
    "\n",
    "\n",
    "\n"
   ]
  },
  {
   "cell_type": "markdown",
   "metadata": {},
   "source": [
    "\n",
    "\n",
    "Candidate ItemSets come from frequent items _> get support level - then create L2\n",
    "\n",
    "C0 -> L1 -> C1 -> L2 -> C2 -> L3 -> C3  (until only 1 itemset is left.\n",
    "\n",
    "Calculate all support ItemSets starting from k=1, to k=n, after all done, go through each and calculate the confidence level.\n",
    "\n",
    "The support levels from ItemSets stays the same, but then calc each Confidence level using each combination of item within each ItemSet for each overall ItemSets for k=N."
   ]
  },
  {
   "cell_type": "code",
   "execution_count": null,
   "metadata": {},
   "outputs": [],
   "source": []
  }
 ],
 "metadata": {
  "kernelspec": {
   "display_name": "Python 3",
   "language": "python",
   "name": "python3"
  },
  "language_info": {
   "codemirror_mode": {
    "name": "ipython",
    "version": 3
   },
   "file_extension": ".py",
   "mimetype": "text/x-python",
   "name": "python",
   "nbconvert_exporter": "python",
   "pygments_lexer": "ipython3",
   "version": "3.7.5"
  }
 },
 "nbformat": 4,
 "nbformat_minor": 4
}
