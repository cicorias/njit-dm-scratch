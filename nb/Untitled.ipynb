{
 "cells": [
  {
   "cell_type": "markdown",
   "metadata": {},
   "source": [
    "```\n",
    "0. supportLevel == ? % (ie. 20%), confidence == ? % (20%)\n",
    "\n",
    "1. read in transactions\n",
    "\n",
    "k = 1  (number of items combined) \n",
    "2. do\n",
    "    - generate support levels for level k\n",
    "    - calculate support and confidence level for each \"item set\" \n",
    "    - eliminate \n",
    "\n",
    "```\n",
    "\n",
    "\n",
    "\n",
    "\n"
   ]
  },
  {
   "cell_type": "markdown",
   "metadata": {},
   "source": [
    "\n",
    "\n",
    "Candidate ItemSets come from frequent items _> get support level - then create L2\n",
    "\n",
    "C0 -> L1 -> C1 -> L2 -> C2 -> L3 -> C3  (until only 1 itemset is left.\n",
    "\n",
    "Calculate all support ItemSets starting from k=1, to k=n, after all done, go through each and calculate the confidence level.\n",
    "\n",
    "The support levels from ItemSets stays the same, but then calc each Confidence level using each combination of item within each ItemSet for each overall ItemSets for k=N."
   ]
  },
  {
   "cell_type": "code",
   "execution_count": null,
   "metadata": {},
   "outputs": [],
   "source": [
    "\n",
    "\n",
    "\n",
    "ta = ('i2', 'i3')\n",
    "tb = ('i4',)\n",
    "\n",
    "tc = tb + ta"
   ]
  },
  {
   "cell_type": "code",
   "execution_count": null,
   "metadata": {},
   "outputs": [],
   "source": [
    "set(tb).issubset(tc)"
   ]
  },
  {
   "cell_type": "code",
   "execution_count": null,
   "metadata": {},
   "outputs": [],
   "source": [
    "tuple1 = (1,2,3)\n",
    "tuple2 = (4,5,6)\n",
    "tuple3 = (3,2,1)"
   ]
  },
  {
   "cell_type": "code",
   "execution_count": null,
   "metadata": {},
   "outputs": [],
   "source": [
    "sorted(tuple3) == sorted(tuple2)"
   ]
  },
  {
   "cell_type": "code",
   "execution_count": null,
   "metadata": {},
   "outputs": [],
   "source": [
    "sorted(tuple3)"
   ]
  },
  {
   "cell_type": "code",
   "execution_count": null,
   "metadata": {},
   "outputs": [],
   "source": [
    "# load some helpers\n",
    "import os, sys\n",
    "from typing import List, Tuple\n",
    "from typing import List, Tuple\n",
    "from itertools import combinations, product, permutations\n",
    "from abc import ABC, abstractmethod, abstractstaticmethod, abstractclassmethod\n",
    "import pandas as pd\n",
    "import logging\n",
    "\n",
    "\n",
    "def source_file(file_name):\n",
    "    f = os.path.join(os.getcwd(), file_name)\n",
    "    exec(open(f).read())\n",
    "\n",
    "    \n",
    "source_file('apriori.py')\n",
    "source_file('assoc.py')"
   ]
  },
  {
   "cell_type": "code",
   "execution_count": null,
   "metadata": {},
   "outputs": [],
   "source": [
    "from apriori import CollapsedCsvFileReader, Apriori\n",
    "from assoc import generate_associations\n",
    "\n",
    "fr = CollapsedCsvFileReader('./data/test-dm-bookch6.csv')\n",
    "\n",
    "t2 = fr.read()\n",
    "\n",
    "#logger.info(\"tran count: {0}\".format(t2))\n",
    "g = Apriori(t2)\n",
    "#output = g.generate_levels(support_level=0.60, drop_below_support=False)\n",
    "output = g.generate_levels(support_level=0.22, drop_below_support=True)\n"
   ]
  },
  {
   "cell_type": "code",
   "execution_count": null,
   "metadata": {},
   "outputs": [],
   "source": [
    "nnn = generate_associations(output)"
   ]
  },
  {
   "cell_type": "code",
   "execution_count": null,
   "metadata": {},
   "outputs": [],
   "source": [
    "[ item for item in nnn if not set(item[][2]).issubset(item[][0]) ]"
   ]
  },
  {
   "cell_type": "code",
   "execution_count": null,
   "metadata": {},
   "outputs": [],
   "source": [
    "nnn"
   ]
  },
  {
   "cell_type": "code",
   "execution_count": null,
   "metadata": {},
   "outputs": [],
   "source": [
    "nnn[[0]]"
   ]
  },
  {
   "cell_type": "code",
   "execution_count": null,
   "metadata": {},
   "outputs": [],
   "source": [
    "n2 = pd.DataFrame(nnn, columns= ['antecedent', 'support1', 'result', 'support2'])\n",
    "n2"
   ]
  },
  {
   "cell_type": "code",
   "execution_count": null,
   "metadata": {},
   "outputs": [],
   "source": [
    "pd.set_option('display.width', 200)\n",
    "\n",
    "possible_combos = [ ( i[1]['antecedent'] + i[1]['result'], i[1]['antecedent'], i[1]['support1'], i[1]['result'], i[1]['support2'] ) \n",
    "   for i in n2.iterrows()\n",
    "   #elimiate where item on boths sides \n",
    "   if not bool(set(i[1]['result']) & set(i[1]['antecedent'])) ]\n",
    "   #and set(i[1]['antecedent'] + i[1]['result']) in t2]\n",
    "   #if not set(i[1]['result']).issubset(i[1]['antecedent']) ]\n",
    "    \n",
    "\n",
    "pd.set_option('max_rows', 100)\n",
    "n3 = pd.DataFrame(possible_combos, columns= ['fullkey', 'antecedent', 'support1', 'result', 'support2'])\n",
    "n3"
   ]
  },
  {
   "cell_type": "code",
   "execution_count": null,
   "metadata": {},
   "outputs": [],
   "source": [
    "def get_support_for_key(trans_list: pd.DataFrame, antecedent_key: Tuple):\n",
    "    rv = 0\n",
    "    srted_key = tuple(sorted(antecedent_key))\n",
    "    matches = trans_list[trans_list['antecedent'] == srted_key].head(1)\n",
    "    if len(matches) ==  1:\n",
    "        rv =  matches['support1'].array[0]\n",
    "    \n",
    "    return rv"
   ]
  },
  {
   "cell_type": "code",
   "execution_count": null,
   "metadata": {},
   "outputs": [],
   "source": [
    "from collections import namedtuple\n",
    "\n",
    "myRecord =  namedtuple('myRecord', ['full_key', 'antecedent', 'support1', 'result', 'support2', 'support_full_key', 'confidence'])\n",
    "\n",
    "def calculate_confidence(data: pd.DataFrame, trans_list):\n",
    "    print('starting')\n",
    "    ctr = 0\n",
    "    rv = list()\n",
    "    for r in data.itertuples():\n",
    "        full_key = r.fullkey\n",
    "        ant = r.antecedent\n",
    "        support1 = r.support1\n",
    "        res = r.result\n",
    "        support2 = r.support2\n",
    "        support_full_key = get_support_for_key(data, full_key)\n",
    "        if support1 != 0:\n",
    "            confidence = support_full_key / support1\n",
    "        else:\n",
    "            confidence = -1\n",
    "            \n",
    "        item_rv = myRecord(full_key, ant, support1, res, support2, support_full_key, confidence )\n",
    "        \n",
    "        rv.append( item_rv )\n",
    "        \n",
    "    ctr += 1\n",
    "    #print(\"ctr: {0}\".format(ctr))\n",
    "    #print(rv)\n",
    "    return rv\n"
   ]
  },
  {
   "cell_type": "code",
   "execution_count": null,
   "metadata": {},
   "outputs": [],
   "source": [
    "#print(len(calculate_confidence(n3, t2)))\n",
    "rrrr = calculate_confidence(n3, t2)\n",
    "#len(rrrr)\n",
    "ddddd = pd.DataFrame(rrrr)"
   ]
  },
  {
   "cell_type": "code",
   "execution_count": null,
   "metadata": {},
   "outputs": [],
   "source": [
    "ddddd[ddddd.confidence > 0]   #success!!!!"
   ]
  },
  {
   "cell_type": "code",
   "execution_count": null,
   "metadata": {},
   "outputs": [],
   "source": [
    "ttt = [ (sorted(i[1]+i[3]), i[1], i[3] ) for i in possible_combos ]\n",
    "\n",
    "ttt[0][0]"
   ]
  },
  {
   "cell_type": "code",
   "execution_count": null,
   "metadata": {},
   "outputs": [],
   "source": [
    "[ (sorted(i[1]+i[3]), i[1], i[3] ) for i in possible_combos #]\n",
    "   if sorted(i[]+i[3]) in t2 ]"
   ]
  },
  {
   "cell_type": "code",
   "execution_count": null,
   "metadata": {},
   "outputs": [],
   "source": [
    "t2"
   ]
  },
  {
   "cell_type": "code",
   "execution_count": null,
   "metadata": {},
   "outputs": [],
   "source": [
    "set(ttt[0][0]).issubset(t2"
   ]
  },
  {
   "cell_type": "code",
   "execution_count": null,
   "metadata": {},
   "outputs": [],
   "source": [
    "[ (ttt[0][0], i) for i in t2 if set(ttt[0][0]).issubset(i)]"
   ]
  },
  {
   "cell_type": "code",
   "execution_count": null,
   "metadata": {},
   "outputs": [],
   "source": [
    "ttt[0]"
   ]
  },
  {
   "cell_type": "code",
   "execution_count": null,
   "metadata": {},
   "outputs": [],
   "source": []
  }
 ],
 "metadata": {
  "kernelspec": {
   "display_name": "Python 3",
   "language": "python",
   "name": "python3"
  },
  "language_info": {
   "codemirror_mode": {
    "name": "ipython",
    "version": 3
   },
   "file_extension": ".py",
   "mimetype": "text/x-python",
   "name": "python",
   "nbconvert_exporter": "python",
   "pygments_lexer": "ipython3",
   "version": "3.7.5"
  }
 },
 "nbformat": 4,
 "nbformat_minor": 4
}
